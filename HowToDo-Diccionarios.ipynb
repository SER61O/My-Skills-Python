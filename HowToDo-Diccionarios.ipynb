{
 "cells": [
  {
   "cell_type": "markdown",
   "id": "a09e20a5",
   "metadata": {},
   "source": [
    "# Diccionarios"
   ]
  },
  {
   "cell_type": "code",
   "execution_count": 1,
   "id": "b497cf13",
   "metadata": {},
   "outputs": [],
   "source": [
    "# Como alternativa a las listas\n",
    "# Los diccionarios tienen valores únicos"
   ]
  },
  {
   "cell_type": "code",
   "execution_count": 2,
   "id": "b682cfe4",
   "metadata": {},
   "outputs": [],
   "source": [
    "paises=[\"China\",\"India\",\"Estados Unidos\",\"Indonesia\",\"Brasil\"]"
   ]
  },
  {
   "cell_type": "code",
   "execution_count": 3,
   "id": "d58f539a",
   "metadata": {},
   "outputs": [],
   "source": [
    "poblaciones= [1.38,1.29,0.33,0.26,0.20]"
   ]
  },
  {
   "cell_type": "code",
   "execution_count": 4,
   "id": "4a411ca0",
   "metadata": {},
   "outputs": [],
   "source": [
    "#si la lista es muy larga, saber el indice de 1 dato es difícil\n",
    "#para saber la población de india podemos sacar el indice de \"india\" y utilizarlo en poblaciones\n",
    "#utilizamos INDEX\n",
    "ind_india=paises.index(\"India\")"
   ]
  },
  {
   "cell_type": "code",
   "execution_count": 5,
   "id": "d1358f39",
   "metadata": {},
   "outputs": [
    {
     "data": {
      "text/plain": [
       "1"
      ]
     },
     "execution_count": 5,
     "metadata": {},
     "output_type": "execute_result"
    }
   ],
   "source": [
    "ind_india"
   ]
  },
  {
   "cell_type": "code",
   "execution_count": 6,
   "id": "a6dba4b9",
   "metadata": {},
   "outputs": [
    {
     "data": {
      "text/plain": [
       "1.29"
      ]
     },
     "execution_count": 6,
     "metadata": {},
     "output_type": "execute_result"
    }
   ],
   "source": [
    "poblaciones[ind_india]"
   ]
  },
  {
   "cell_type": "code",
   "execution_count": 7,
   "id": "2a683fce",
   "metadata": {},
   "outputs": [],
   "source": [
    "#lo anterior es una forma muy larga de hacerlo"
   ]
  },
  {
   "cell_type": "code",
   "execution_count": 8,
   "id": "83ecf791",
   "metadata": {},
   "outputs": [],
   "source": [
    "# creamos  un diccionario llamado \"mundo\"\n",
    "# se usan {}\n",
    "mundo= {\"China\":1.38, \"India\":1.29, \"Estados Unidos\":0.33, \"Indonesia\":0.26, \"Brasil\":0.20}"
   ]
  },
  {
   "cell_type": "code",
   "execution_count": 9,
   "id": "0dcc2c16",
   "metadata": {},
   "outputs": [
    {
     "data": {
      "text/plain": [
       "dict"
      ]
     },
     "execution_count": 9,
     "metadata": {},
     "output_type": "execute_result"
    }
   ],
   "source": [
    "type(mundo)\n",
    "# es un diccionario"
   ]
  },
  {
   "cell_type": "code",
   "execution_count": 10,
   "id": "a3676da9",
   "metadata": {},
   "outputs": [
    {
     "data": {
      "text/plain": [
       "1.29"
      ]
     },
     "execution_count": 10,
     "metadata": {},
     "output_type": "execute_result"
    }
   ],
   "source": [
    "mundo[\"India\"]"
   ]
  },
  {
   "cell_type": "markdown",
   "id": "230a7073",
   "metadata": {},
   "source": [
    "## Añadiendo,editando y borrando datos en diccionarios"
   ]
  },
  {
   "cell_type": "code",
   "execution_count": 11,
   "id": "3f0fb711",
   "metadata": {},
   "outputs": [],
   "source": [
    "mundo[\"Pakistán\"]=0.11"
   ]
  },
  {
   "cell_type": "code",
   "execution_count": 12,
   "id": "78caaff9",
   "metadata": {},
   "outputs": [
    {
     "data": {
      "text/plain": [
       "{'China': 1.38,\n",
       " 'India': 1.29,\n",
       " 'Estados Unidos': 0.33,\n",
       " 'Indonesia': 0.26,\n",
       " 'Brasil': 0.2,\n",
       " 'Pakistán': 0.11}"
      ]
     },
     "execution_count": 12,
     "metadata": {},
     "output_type": "execute_result"
    }
   ],
   "source": [
    "mundo"
   ]
  },
  {
   "cell_type": "code",
   "execution_count": 13,
   "id": "b1b28939",
   "metadata": {},
   "outputs": [],
   "source": [
    "# si el valor ya existe, lo cambia\n",
    "# si ponemos mundo[\"China\"]= 1.6"
   ]
  },
  {
   "cell_type": "code",
   "execution_count": 14,
   "id": "ea9c6a0d",
   "metadata": {},
   "outputs": [],
   "source": [
    "# para borrar un valor del diccionario usamos DEL\n",
    "del(mundo[\"Pakistán\"])"
   ]
  },
  {
   "cell_type": "code",
   "execution_count": 15,
   "id": "bb4b3f11",
   "metadata": {},
   "outputs": [
    {
     "data": {
      "text/plain": [
       "{'China': 1.38,\n",
       " 'India': 1.29,\n",
       " 'Estados Unidos': 0.33,\n",
       " 'Indonesia': 0.26,\n",
       " 'Brasil': 0.2}"
      ]
     },
     "execution_count": 15,
     "metadata": {},
     "output_type": "execute_result"
    }
   ],
   "source": [
    "mundo"
   ]
  },
  {
   "cell_type": "markdown",
   "id": "c557a308",
   "metadata": {},
   "source": [
    "### Diferencia entre listas y diccionarios"
   ]
  },
  {
   "cell_type": "code",
   "execution_count": 16,
   "id": "67e55b3f",
   "metadata": {},
   "outputs": [],
   "source": [
    "# las listas se indexan con un rango de numeros y los diccionarios con llaves\n",
    "# las listas son valores con un orden, puedes hacer muchas selecciones\n",
    "# los diccionarios se usan para hacer búsquedas"
   ]
  },
  {
   "cell_type": "code",
   "execution_count": null,
   "id": "90bd0165",
   "metadata": {},
   "outputs": [],
   "source": []
  }
 ],
 "metadata": {
  "kernelspec": {
   "display_name": "Python 3 (ipykernel)",
   "language": "python",
   "name": "python3"
  },
  "language_info": {
   "codemirror_mode": {
    "name": "ipython",
    "version": 3
   },
   "file_extension": ".py",
   "mimetype": "text/x-python",
   "name": "python",
   "nbconvert_exporter": "python",
   "pygments_lexer": "ipython3",
   "version": "3.8.10"
  }
 },
 "nbformat": 4,
 "nbformat_minor": 5
}
