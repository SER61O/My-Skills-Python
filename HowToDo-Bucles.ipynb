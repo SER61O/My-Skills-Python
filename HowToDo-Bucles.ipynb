{
 "cells": [
  {
   "cell_type": "markdown",
   "id": "3dac29c7",
   "metadata": {},
   "source": [
    "# Bucles"
   ]
  },
  {
   "cell_type": "markdown",
   "id": "cc1046ed",
   "metadata": {},
   "source": [
    "- while"
   ]
  },
  {
   "cell_type": "code",
   "execution_count": 2,
   "id": "7ba0dbd1",
   "metadata": {},
   "outputs": [
    {
     "name": "stdout",
     "output_type": "stream",
     "text": [
      "1\n",
      "2\n",
      "3\n",
      "4\n",
      "5\n",
      "6\n",
      "7\n",
      "8\n",
      "9\n",
      "10\n"
     ]
    }
   ],
   "source": [
    "# ojo que si no para petamos el pc\n",
    "\n",
    "x=0\n",
    "\n",
    "while x<10:\n",
    "    x=x+1\n",
    "    print(x)"
   ]
  },
  {
   "cell_type": "markdown",
   "id": "bca353f6",
   "metadata": {},
   "source": [
    "- for"
   ]
  },
  {
   "cell_type": "code",
   "execution_count": 10,
   "id": "180765a6",
   "metadata": {},
   "outputs": [
    {
     "name": "stdout",
     "output_type": "stream",
     "text": [
      "1\n",
      "2\n",
      "3\n",
      "4\n",
      "5\n"
     ]
    }
   ],
   "source": [
    "y=[1,2,3,4,5]\n",
    "\n",
    "for i in y:\n",
    "    print (i)\n",
    "    "
   ]
  },
  {
   "cell_type": "markdown",
   "id": "1a13e083",
   "metadata": {},
   "source": [
    "- for loop (enumerate)"
   ]
  },
  {
   "cell_type": "code",
   "execution_count": 12,
   "id": "70edbdc4",
   "metadata": {},
   "outputs": [
    {
     "name": "stdout",
     "output_type": "stream",
     "text": [
      "0 1\n",
      "1 2\n",
      "2 3\n",
      "3 4\n",
      "4 5\n"
     ]
    }
   ],
   "source": [
    "# este enumerate permite sacar el índice\n",
    "for index,i in enumerate (y):\n",
    "    print(index,i)"
   ]
  },
  {
   "cell_type": "code",
   "execution_count": 21,
   "id": "4ed8837c",
   "metadata": {},
   "outputs": [
    {
     "name": "stdout",
     "output_type": "stream",
     "text": [
      "Índice 0 : 1\n",
      "Índice 1 : 2\n",
      "Índice 2 : 3\n",
      "Índice 3 : 4\n",
      "Índice 4 : 5\n"
     ]
    }
   ],
   "source": [
    "# construyendo una frase\n",
    "for index,i in enumerate (y):\n",
    "    print(\"Índice\" ,index,\":\", i)"
   ]
  },
  {
   "cell_type": "code",
   "execution_count": 23,
   "id": "da90c904",
   "metadata": {},
   "outputs": [
    {
     "name": "stdout",
     "output_type": "stream",
     "text": [
      "Índice 0: 1\n",
      "Índice 1: 2\n",
      "Índice 2: 3\n",
      "Índice 3: 4\n",
      "Índice 4: 5\n"
     ]
    }
   ],
   "source": [
    "# o la que sale en la teoría\n",
    "for index,i in enumerate (y):\n",
    "    print(\"Índice \" +str(index)+\":\", str(i))"
   ]
  },
  {
   "cell_type": "code",
   "execution_count": 24,
   "id": "b52c982f",
   "metadata": {},
   "outputs": [
    {
     "name": "stdout",
     "output_type": "stream",
     "text": [
      "H\n",
      "O\n",
      "L\n",
      "A\n",
      " \n",
      "M\n",
      "U\n",
      "N\n",
      "D\n",
      "O\n"
     ]
    }
   ],
   "source": [
    "for x in \"Hola Mundo\":\n",
    "    print(x.capitalize())"
   ]
  },
  {
   "cell_type": "markdown",
   "id": "05b4c1ae",
   "metadata": {},
   "source": [
    "# Listas"
   ]
  },
  {
   "cell_type": "code",
   "execution_count": 32,
   "id": "d7d6eef2",
   "metadata": {},
   "outputs": [],
   "source": [
    "paises=[\"China\",\"India\",\"Estados Unidos\",\"Indonesia\",\"Brasil\"]\n",
    "poblaciones= [1.38,1.29,0.33,0.26,0.20]\n",
    "poblacionex =[[\"China\",1.38],[\"India\",1.29],[\"Estados Unidos\",0.33],[\"Indonesia\",0.26],[\"Brasil\",0.20]]"
   ]
  },
  {
   "cell_type": "code",
   "execution_count": 33,
   "id": "41d68178",
   "metadata": {},
   "outputs": [
    {
     "data": {
      "text/plain": [
       "[['China', 1.38],\n",
       " ['India', 1.29],\n",
       " ['Estados Unidos', 0.33],\n",
       " ['Indonesia', 0.26],\n",
       " ['Brasil', 0.2]]"
      ]
     },
     "execution_count": 33,
     "metadata": {},
     "output_type": "execute_result"
    }
   ],
   "source": [
    "poblacionex"
   ]
  },
  {
   "cell_type": "code",
   "execution_count": 46,
   "id": "3abfd7cc",
   "metadata": {},
   "outputs": [
    {
     "name": "stdout",
     "output_type": "stream",
     "text": [
      "La población de Chinaes de 1.38mil millones\n",
      "La población de Indiaes de 1.29mil millones\n",
      "La población de Estados Unidoses de 0.33mil millones\n",
      "La población de Indonesiaes de 0.26mil millones\n",
      "La población de Brasiles de 0.2mil millones\n"
     ]
    }
   ],
   "source": [
    "#for loop\n",
    "for x in poblacionex:\n",
    "    print (\"La población de \" + x[0] + \"es de \"+ str(x[1])+ \"mil millones\")"
   ]
  },
  {
   "cell_type": "markdown",
   "id": "6f9cf0bd",
   "metadata": {},
   "source": [
    "## Diferentes estructuras de datos "
   ]
  },
  {
   "cell_type": "markdown",
   "id": "bc3dbe8e",
   "metadata": {},
   "source": [
    "- Diccionarios usa el metodo mi_dicc.items() \n",
    "- Matriz numpy utiliza la función np.inder(mi_matriz)"
   ]
  },
  {
   "cell_type": "code",
   "execution_count": 51,
   "id": "eda58413",
   "metadata": {},
   "outputs": [],
   "source": [
    "mi_dicc= {\"China\":1.38, \"India\":1.29, \"Estados Unidos\":0.33, \"Indonesia\":0.26, \"Brasil\":0.20}"
   ]
  },
  {
   "cell_type": "code",
   "execution_count": 52,
   "id": "07f093bb",
   "metadata": {},
   "outputs": [
    {
     "data": {
      "text/plain": [
       "{'China': 1.38,\n",
       " 'India': 1.29,\n",
       " 'Estados Unidos': 0.33,\n",
       " 'Indonesia': 0.26,\n",
       " 'Brasil': 0.2}"
      ]
     },
     "execution_count": 52,
     "metadata": {},
     "output_type": "execute_result"
    }
   ],
   "source": [
    "mi_dicc"
   ]
  },
  {
   "cell_type": "code",
   "execution_count": 55,
   "id": "38a2e517",
   "metadata": {},
   "outputs": [
    {
     "name": "stdout",
     "output_type": "stream",
     "text": [
      "la población de China es de 1.38 miles de millones\n",
      "la población de India es de 1.29 miles de millones\n",
      "la población de Estados Unidos es de 0.33 miles de millones\n",
      "la población de Indonesia es de 0.26 miles de millones\n",
      "la población de Brasil es de 0.2 miles de millones\n"
     ]
    }
   ],
   "source": [
    "#for loop\n",
    "# cómo hacer lo mismo que antes utilizando un diccionario (antes era listas dentro de listas)\n",
    "#k = llave(china) v = valor\n",
    "for k,v in mi_dicc.items():\n",
    "    print (\"la población de \"+ k+ \" es de \"+ str(v)+ \" miles de millones\")\n",
    "    "
   ]
  },
  {
   "cell_type": "code",
   "execution_count": 56,
   "id": "df35806d",
   "metadata": {},
   "outputs": [],
   "source": [
    "# for loop con numpy\n",
    "peso= [45,55,65] \n",
    "alturas= [1.50,1.65,1.71]\n",
    "np_peso= np.array(peso)\n",
    "np_alturas= np.array(alturas)\n",
    "np_bmi= np_peso / (np_alturas **2)"
   ]
  },
  {
   "cell_type": "code",
   "execution_count": 59,
   "id": "3a488746",
   "metadata": {
    "scrolled": true
   },
   "outputs": [
    {
     "data": {
      "text/plain": [
       "array([20.        , 20.2020202 , 22.22906193])"
      ]
     },
     "execution_count": 59,
     "metadata": {},
     "output_type": "execute_result"
    }
   ],
   "source": [
    "bmi=np_bmi\n",
    "bmi"
   ]
  },
  {
   "cell_type": "code",
   "execution_count": 60,
   "id": "ffb53ba6",
   "metadata": {},
   "outputs": [
    {
     "name": "stdout",
     "output_type": "stream",
     "text": [
      "20.0\n",
      "20.202020202020204\n",
      "22.229061933586404\n"
     ]
    }
   ],
   "source": [
    "for x in bmi:\n",
    "    print(x)"
   ]
  },
  {
   "cell_type": "code",
   "execution_count": 62,
   "id": "19076662",
   "metadata": {},
   "outputs": [],
   "source": [
    "#que pasa en una matriz 2d\n",
    "altura_peso= np.array([np_peso,np_alturas])"
   ]
  },
  {
   "cell_type": "code",
   "execution_count": 63,
   "id": "72cbec96",
   "metadata": {},
   "outputs": [
    {
     "data": {
      "text/plain": [
       "array([[45.  , 55.  , 65.  ],\n",
       "       [ 1.5 ,  1.65,  1.71]])"
      ]
     },
     "execution_count": 63,
     "metadata": {},
     "output_type": "execute_result"
    }
   ],
   "source": [
    "altura_peso"
   ]
  },
  {
   "cell_type": "code",
   "execution_count": 64,
   "id": "f1a3c02f",
   "metadata": {},
   "outputs": [
    {
     "name": "stdout",
     "output_type": "stream",
     "text": [
      "[45. 55. 65.]\n",
      "[1.5  1.65 1.71]\n"
     ]
    }
   ],
   "source": [
    "#pasa que esto no es un loop\n",
    "for x in altura_peso:\n",
    "    print (x)"
   ]
  },
  {
   "cell_type": "code",
   "execution_count": 65,
   "id": "faa3f546",
   "metadata": {},
   "outputs": [
    {
     "name": "stdout",
     "output_type": "stream",
     "text": [
      "45.0\n",
      "55.0\n",
      "65.0\n",
      "1.5\n",
      "1.65\n",
      "1.71\n"
     ]
    }
   ],
   "source": [
    "#tenemos que cambiar con np.inditer\n",
    "for x in np.nditer(altura_peso):\n",
    "    print (x)\n"
   ]
  },
  {
   "cell_type": "markdown",
   "id": "cad3727a",
   "metadata": {},
   "source": [
    "# Pandas dataframe"
   ]
  },
  {
   "cell_type": "code",
   "execution_count": 67,
   "id": "d074cad0",
   "metadata": {},
   "outputs": [
    {
     "data": {
      "text/html": [
       "<div>\n",
       "<style scoped>\n",
       "    .dataframe tbody tr th:only-of-type {\n",
       "        vertical-align: middle;\n",
       "    }\n",
       "\n",
       "    .dataframe tbody tr th {\n",
       "        vertical-align: top;\n",
       "    }\n",
       "\n",
       "    .dataframe thead th {\n",
       "        text-align: right;\n",
       "    }\n",
       "</style>\n",
       "<table border=\"1\" class=\"dataframe\">\n",
       "  <thead>\n",
       "    <tr style=\"text-align: right;\">\n",
       "      <th></th>\n",
       "      <th>Países</th>\n",
       "      <th>Población</th>\n",
       "    </tr>\n",
       "  </thead>\n",
       "  <tbody>\n",
       "    <tr>\n",
       "      <th>0</th>\n",
       "      <td>China</td>\n",
       "      <td>1.38</td>\n",
       "    </tr>\n",
       "    <tr>\n",
       "      <th>1</th>\n",
       "      <td>India</td>\n",
       "      <td>1.29</td>\n",
       "    </tr>\n",
       "    <tr>\n",
       "      <th>2</th>\n",
       "      <td>Estados Unidos</td>\n",
       "      <td>0.33</td>\n",
       "    </tr>\n",
       "    <tr>\n",
       "      <th>3</th>\n",
       "      <td>Indonesia</td>\n",
       "      <td>0.26</td>\n",
       "    </tr>\n",
       "    <tr>\n",
       "      <th>4</th>\n",
       "      <td>Brasil</td>\n",
       "      <td>0.20</td>\n",
       "    </tr>\n",
       "  </tbody>\n",
       "</table>\n",
       "</div>"
      ],
      "text/plain": [
       "           Países  Población\n",
       "0           China       1.38\n",
       "1           India       1.29\n",
       "2  Estados Unidos       0.33\n",
       "3       Indonesia       0.26\n",
       "4          Brasil       0.20"
      ]
     },
     "execution_count": 67,
     "metadata": {},
     "output_type": "execute_result"
    }
   ],
   "source": [
    "import pandas as pd\n",
    "paises=[\"China\",\"India\",\"Estados Unidos\",\"Indonesia\",\"Brasil\"]\n",
    "poblaciones= [1.38,1.29,0.33,0.26,0.20]\n",
    "mi_dicc = { \"Países\": paises, \"Población\": poblaciones}\n",
    "Población = pd.DataFrame(mi_dicc)\n",
    "Población"
   ]
  },
  {
   "cell_type": "code",
   "execution_count": 76,
   "id": "d8fdc354",
   "metadata": {},
   "outputs": [
    {
     "name": "stdout",
     "output_type": "stream",
     "text": [
      "Países\n",
      "Población\n"
     ]
    }
   ],
   "source": [
    "for i in Población:\n",
    "    print (i)"
   ]
  },
  {
   "cell_type": "code",
   "execution_count": 78,
   "id": "b9cf9b91",
   "metadata": {},
   "outputs": [
    {
     "name": "stdout",
     "output_type": "stream",
     "text": [
      "CN\n",
      "Países       China\n",
      "Población     1.38\n",
      "Name: CN, dtype: object\n",
      "IN\n",
      "Países       India\n",
      "Población     1.29\n",
      "Name: IN, dtype: object\n",
      "US\n",
      "Países       Estados Unidos\n",
      "Población              0.33\n",
      "Name: US, dtype: object\n",
      "ID\n",
      "Países       Indonesia\n",
      "Población         0.26\n",
      "Name: ID, dtype: object\n",
      "BR\n",
      "Países       Brasil\n",
      "Población       0.2\n",
      "Name: BR, dtype: object\n"
     ]
    }
   ],
   "source": [
    "Población.index= [\"CN\",\"IN\",\"US\",\"ID\",\"BR\"]\n",
    "for etiqueta, fila in Población.iterrows():\n",
    "    print(etiqueta)\n",
    "    print(fila)"
   ]
  },
  {
   "cell_type": "code",
   "execution_count": 80,
   "id": "ac35bcb3",
   "metadata": {},
   "outputs": [
    {
     "name": "stdout",
     "output_type": "stream",
     "text": [
      "CN : China\n",
      "IN : India\n",
      "US : Estados Unidos\n",
      "ID : Indonesia\n",
      "BR : Brasil\n"
     ]
    }
   ],
   "source": [
    "for etiqueta, fila in Población.iterrows():\n",
    "    print(etiqueta + \" : \"+ fila[\"Países\"])\n"
   ]
  },
  {
   "cell_type": "code",
   "execution_count": 82,
   "id": "0a1b2649",
   "metadata": {},
   "outputs": [
    {
     "name": "stdout",
     "output_type": "stream",
     "text": [
      "CN : 1.38\n",
      "IN : 1.29\n",
      "US : 0.33\n",
      "ID : 0.26\n",
      "BR : 0.2\n"
     ]
    }
   ],
   "source": [
    "for etiqueta, fila in Población.iterrows():\n",
    "    print(etiqueta + \" : \"+ str(fila[\"Población\"]))"
   ]
  },
  {
   "cell_type": "code",
   "execution_count": 8,
   "id": "95a55b1d",
   "metadata": {},
   "outputs": [
    {
     "name": "stdout",
     "output_type": "stream",
     "text": [
      "           Países  Población  largo\n",
      "0           China       1.38    5.0\n",
      "1           India       1.29    NaN\n",
      "2  Estados Unidos       0.33    NaN\n",
      "3       Indonesia       0.26    NaN\n",
      "4          Brasil       0.20    NaN\n",
      "           Países  Población  largo\n",
      "0           China       1.38    5.0\n",
      "1           India       1.29    5.0\n",
      "2  Estados Unidos       0.33    NaN\n",
      "3       Indonesia       0.26    NaN\n",
      "4          Brasil       0.20    NaN\n",
      "           Países  Población  largo\n",
      "0           China       1.38    5.0\n",
      "1           India       1.29    5.0\n",
      "2  Estados Unidos       0.33   14.0\n",
      "3       Indonesia       0.26    NaN\n",
      "4          Brasil       0.20    NaN\n",
      "           Países  Población  largo\n",
      "0           China       1.38    5.0\n",
      "1           India       1.29    5.0\n",
      "2  Estados Unidos       0.33   14.0\n",
      "3       Indonesia       0.26    9.0\n",
      "4          Brasil       0.20    NaN\n",
      "           Países  Población  largo\n",
      "0           China       1.38    5.0\n",
      "1           India       1.29    5.0\n",
      "2  Estados Unidos       0.33   14.0\n",
      "3       Indonesia       0.26    9.0\n",
      "4          Brasil       0.20    6.0\n"
     ]
    }
   ],
   "source": [
    "# se pueden utilizar para AÑADIR COLUMNAS\n",
    "import pandas as pd\n",
    "paises=[\"China\",\"India\",\"Estados Unidos\",\"Indonesia\",\"Brasil\"]\n",
    "poblaciones= [1.38,1.29,0.33,0.26,0.20]\n",
    "mi_dicc = { \"Países\": paises, \"Población\": poblaciones}\n",
    "Población = pd.DataFrame(mi_dicc)\n",
    "for etiqueta, fila in Población.iterrows():\n",
    "\n",
    "#aquí está el codigo \".loc\"\n",
    "    Población.loc[etiqueta, \"largo\"]= len(fila[\"Países\"])\n",
    "    print (Población)"
   ]
  },
  {
   "cell_type": "markdown",
   "id": "6e4f1b96",
   "metadata": {},
   "source": [
    "### Apply para acortar codigo de bucles"
   ]
  },
  {
   "cell_type": "code",
   "execution_count": 13,
   "id": "b71731f0",
   "metadata": {},
   "outputs": [],
   "source": [
    "# SE PUEDE HACER TODO EN UNA LINEA CON LA FUNCIÓN APPLY MUCHO MÁS RAPIDO QUE ITERROWS"
   ]
  },
  {
   "cell_type": "code",
   "execution_count": 14,
   "id": "03170b69",
   "metadata": {},
   "outputs": [],
   "source": [
    "Población[\"largo_apply\"] = Población[\"Países\"].apply(len)"
   ]
  },
  {
   "cell_type": "code",
   "execution_count": 15,
   "id": "35426228",
   "metadata": {},
   "outputs": [
    {
     "data": {
      "text/html": [
       "<div>\n",
       "<style scoped>\n",
       "    .dataframe tbody tr th:only-of-type {\n",
       "        vertical-align: middle;\n",
       "    }\n",
       "\n",
       "    .dataframe tbody tr th {\n",
       "        vertical-align: top;\n",
       "    }\n",
       "\n",
       "    .dataframe thead th {\n",
       "        text-align: right;\n",
       "    }\n",
       "</style>\n",
       "<table border=\"1\" class=\"dataframe\">\n",
       "  <thead>\n",
       "    <tr style=\"text-align: right;\">\n",
       "      <th></th>\n",
       "      <th>Países</th>\n",
       "      <th>Población</th>\n",
       "      <th>largo</th>\n",
       "      <th>largo_apply</th>\n",
       "    </tr>\n",
       "  </thead>\n",
       "  <tbody>\n",
       "    <tr>\n",
       "      <th>0</th>\n",
       "      <td>China</td>\n",
       "      <td>1.38</td>\n",
       "      <td>5.0</td>\n",
       "      <td>5</td>\n",
       "    </tr>\n",
       "    <tr>\n",
       "      <th>1</th>\n",
       "      <td>India</td>\n",
       "      <td>1.29</td>\n",
       "      <td>5.0</td>\n",
       "      <td>5</td>\n",
       "    </tr>\n",
       "    <tr>\n",
       "      <th>2</th>\n",
       "      <td>Estados Unidos</td>\n",
       "      <td>0.33</td>\n",
       "      <td>14.0</td>\n",
       "      <td>14</td>\n",
       "    </tr>\n",
       "    <tr>\n",
       "      <th>3</th>\n",
       "      <td>Indonesia</td>\n",
       "      <td>0.26</td>\n",
       "      <td>9.0</td>\n",
       "      <td>9</td>\n",
       "    </tr>\n",
       "    <tr>\n",
       "      <th>4</th>\n",
       "      <td>Brasil</td>\n",
       "      <td>0.20</td>\n",
       "      <td>6.0</td>\n",
       "      <td>6</td>\n",
       "    </tr>\n",
       "  </tbody>\n",
       "</table>\n",
       "</div>"
      ],
      "text/plain": [
       "           Países  Población  largo  largo_apply\n",
       "0           China       1.38    5.0            5\n",
       "1           India       1.29    5.0            5\n",
       "2  Estados Unidos       0.33   14.0           14\n",
       "3       Indonesia       0.26    9.0            9\n",
       "4          Brasil       0.20    6.0            6"
      ]
     },
     "execution_count": 15,
     "metadata": {},
     "output_type": "execute_result"
    }
   ],
   "source": [
    "Población"
   ]
  },
  {
   "cell_type": "code",
   "execution_count": null,
   "id": "8b270e21",
   "metadata": {},
   "outputs": [],
   "source": []
  }
 ],
 "metadata": {
  "kernelspec": {
   "display_name": "Python 3 (ipykernel)",
   "language": "python",
   "name": "python3"
  },
  "language_info": {
   "codemirror_mode": {
    "name": "ipython",
    "version": 3
   },
   "file_extension": ".py",
   "mimetype": "text/x-python",
   "name": "python",
   "nbconvert_exporter": "python",
   "pygments_lexer": "ipython3",
   "version": "3.10.0"
  }
 },
 "nbformat": 4,
 "nbformat_minor": 5
}
