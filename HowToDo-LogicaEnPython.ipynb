{
 "cells": [
  {
   "cell_type": "markdown",
   "id": "a1ad61a4",
   "metadata": {},
   "source": [
    "# Lógica en Python"
   ]
  },
  {
   "cell_type": "code",
   "execution_count": 1,
   "id": "f290efbc",
   "metadata": {},
   "outputs": [],
   "source": [
    "# Logica , comparadores y resultados Boolean mas utilizados"
   ]
  },
  {
   "cell_type": "code",
   "execution_count": 2,
   "id": "92b06a03",
   "metadata": {},
   "outputs": [],
   "source": [
    "import numpy as np"
   ]
  },
  {
   "cell_type": "code",
   "execution_count": 3,
   "id": "00017727",
   "metadata": {},
   "outputs": [],
   "source": [
    "bmi= np.array([21.4,22.9,23.1,21.2])"
   ]
  },
  {
   "cell_type": "code",
   "execution_count": 4,
   "id": "944c7070",
   "metadata": {},
   "outputs": [
    {
     "data": {
      "text/plain": [
       "array([False, False,  True, False])"
      ]
     },
     "execution_count": 4,
     "metadata": {},
     "output_type": "execute_result"
    }
   ],
   "source": [
    "bmi >23"
   ]
  },
  {
   "cell_type": "code",
   "execution_count": 5,
   "id": "4e1ec0dc",
   "metadata": {},
   "outputs": [
    {
     "data": {
      "text/plain": [
       "array([23.1])"
      ]
     },
     "execution_count": 5,
     "metadata": {},
     "output_type": "execute_result"
    }
   ],
   "source": [
    "# si queremos solo los True\n",
    "bmi [bmi >23]"
   ]
  },
  {
   "cell_type": "code",
   "execution_count": 6,
   "id": "0704797a",
   "metadata": {},
   "outputs": [
    {
     "data": {
      "text/plain": [
       "True"
      ]
     },
     "execution_count": 6,
     "metadata": {},
     "output_type": "execute_result"
    }
   ],
   "source": [
    "3<5"
   ]
  },
  {
   "cell_type": "code",
   "execution_count": 7,
   "id": "d6102461",
   "metadata": {},
   "outputs": [
    {
     "data": {
      "text/plain": [
       "False"
      ]
     },
     "execution_count": 7,
     "metadata": {},
     "output_type": "execute_result"
    }
   ],
   "source": [
    "#se usa doble=\n",
    "3==5"
   ]
  },
  {
   "cell_type": "code",
   "execution_count": 8,
   "id": "d11b3cee",
   "metadata": {},
   "outputs": [
    {
     "data": {
      "text/plain": [
       "False"
      ]
     },
     "execution_count": 8,
     "metadata": {},
     "output_type": "execute_result"
    }
   ],
   "source": [
    "3>=5"
   ]
  },
  {
   "cell_type": "code",
   "execution_count": 9,
   "id": "337d9a20",
   "metadata": {},
   "outputs": [
    {
     "data": {
      "text/plain": [
       "True"
      ]
     },
     "execution_count": 9,
     "metadata": {},
     "output_type": "execute_result"
    }
   ],
   "source": [
    "# diferente de \n",
    "3!=5"
   ]
  },
  {
   "cell_type": "code",
   "execution_count": 11,
   "id": "2e75dbf3",
   "metadata": {},
   "outputs": [
    {
     "data": {
      "text/plain": [
       "True"
      ]
     },
     "execution_count": 11,
     "metadata": {},
     "output_type": "execute_result"
    }
   ],
   "source": [
    "#orden alfabetico (No longitud)\n",
    "# alejandro está antes que alex\n",
    "\"alejandro\"< \"alex\""
   ]
  },
  {
   "cell_type": "markdown",
   "id": "ed90cd86",
   "metadata": {},
   "source": [
    "## not"
   ]
  },
  {
   "cell_type": "code",
   "execution_count": 12,
   "id": "bdacf598",
   "metadata": {},
   "outputs": [
    {
     "data": {
      "text/plain": [
       "False"
      ]
     },
     "execution_count": 12,
     "metadata": {},
     "output_type": "execute_result"
    }
   ],
   "source": [
    "not True"
   ]
  },
  {
   "cell_type": "code",
   "execution_count": 13,
   "id": "8091a4a2",
   "metadata": {},
   "outputs": [
    {
     "data": {
      "text/plain": [
       "True"
      ]
     },
     "execution_count": 13,
     "metadata": {},
     "output_type": "execute_result"
    }
   ],
   "source": [
    "not False"
   ]
  },
  {
   "cell_type": "markdown",
   "id": "7f5b993d",
   "metadata": {},
   "source": [
    "## Logical Numpy"
   ]
  },
  {
   "cell_type": "code",
   "execution_count": 14,
   "id": "511e7e21",
   "metadata": {},
   "outputs": [
    {
     "data": {
      "text/plain": [
       "array([21.4, 22.9, 23.1, 21.2])"
      ]
     },
     "execution_count": 14,
     "metadata": {},
     "output_type": "execute_result"
    }
   ],
   "source": [
    "bmi"
   ]
  },
  {
   "cell_type": "code",
   "execution_count": 15,
   "id": "0f0038e1",
   "metadata": {},
   "outputs": [
    {
     "data": {
      "text/plain": [
       "array([False, False,  True, False])"
      ]
     },
     "execution_count": 15,
     "metadata": {},
     "output_type": "execute_result"
    }
   ],
   "source": [
    "bmi >23"
   ]
  },
  {
   "cell_type": "code",
   "execution_count": 16,
   "id": "d89c8126",
   "metadata": {},
   "outputs": [
    {
     "data": {
      "text/plain": [
       "array([ True,  True,  True,  True])"
      ]
     },
     "execution_count": 16,
     "metadata": {},
     "output_type": "execute_result"
    }
   ],
   "source": [
    "bmi <25"
   ]
  },
  {
   "cell_type": "code",
   "execution_count": 17,
   "id": "99082f11",
   "metadata": {},
   "outputs": [
    {
     "ename": "SyntaxError",
     "evalue": "invalid syntax (Temp/ipykernel_10288/3346254677.py, line 1)",
     "output_type": "error",
     "traceback": [
      "\u001b[1;36m  File \u001b[1;32m\"C:\\Users\\sergi\\AppData\\Local\\Temp/ipykernel_10288/3346254677.py\"\u001b[1;36m, line \u001b[1;32m1\u001b[0m\n\u001b[1;33m    bmi >23 and <25\u001b[0m\n\u001b[1;37m                ^\u001b[0m\n\u001b[1;31mSyntaxError\u001b[0m\u001b[1;31m:\u001b[0m invalid syntax\n"
     ]
    }
   ],
   "source": [
    "# da error, no es logico para numpy\n",
    "bmi >23 and <25"
   ]
  },
  {
   "cell_type": "markdown",
   "id": "358a8887",
   "metadata": {},
   "source": [
    "Hay tres funciones logicas:\n",
    "- logical_and()\n",
    "- logical_or()\n",
    "- logical_not()"
   ]
  },
  {
   "cell_type": "code",
   "execution_count": 18,
   "id": "b2787d4d",
   "metadata": {},
   "outputs": [
    {
     "data": {
      "text/plain": [
       "array([False, False,  True, False])"
      ]
     },
     "execution_count": 18,
     "metadata": {},
     "output_type": "execute_result"
    }
   ],
   "source": [
    "#logical_and\n",
    "np.logical_and(bmi>23,bmi<25)"
   ]
  },
  {
   "cell_type": "code",
   "execution_count": 20,
   "id": "d08baf1c",
   "metadata": {},
   "outputs": [
    {
     "data": {
      "text/plain": [
       "array([23.1])"
      ]
     },
     "execution_count": 20,
     "metadata": {},
     "output_type": "execute_result"
    }
   ],
   "source": [
    "#para escoger esos valores True\n",
    "bmi[np.logical_and(bmi>23,bmi<25)]"
   ]
  },
  {
   "cell_type": "markdown",
   "id": "281f6079",
   "metadata": {},
   "source": [
    "## Operadores Boolean"
   ]
  },
  {
   "cell_type": "markdown",
   "id": "a4acde6a",
   "metadata": {},
   "source": [
    "Hay tres: \n",
    "- and\n",
    "- or\n",
    "- not"
   ]
  },
  {
   "cell_type": "markdown",
   "id": "43706c8a",
   "metadata": {},
   "source": [
    "### con AND tienen que ser los 2 verdaderos para que salga verdadero"
   ]
  },
  {
   "cell_type": "code",
   "execution_count": 21,
   "id": "ecdab489",
   "metadata": {},
   "outputs": [
    {
     "data": {
      "text/plain": [
       "False"
      ]
     },
     "execution_count": 21,
     "metadata": {},
     "output_type": "execute_result"
    }
   ],
   "source": [
    "False and True"
   ]
  },
  {
   "cell_type": "code",
   "execution_count": 22,
   "id": "8e0e7e0f",
   "metadata": {},
   "outputs": [
    {
     "data": {
      "text/plain": [
       "False"
      ]
     },
     "execution_count": 22,
     "metadata": {},
     "output_type": "execute_result"
    }
   ],
   "source": [
    "False and False"
   ]
  },
  {
   "cell_type": "code",
   "execution_count": 23,
   "id": "38c8e3e0",
   "metadata": {},
   "outputs": [
    {
     "data": {
      "text/plain": [
       "True"
      ]
     },
     "execution_count": 23,
     "metadata": {},
     "output_type": "execute_result"
    }
   ],
   "source": [
    "True and True"
   ]
  },
  {
   "cell_type": "markdown",
   "id": "18d46d13",
   "metadata": {},
   "source": [
    "### or: por lo menos 1 es verdad"
   ]
  },
  {
   "cell_type": "code",
   "execution_count": 28,
   "id": "9060612a",
   "metadata": {},
   "outputs": [
    {
     "data": {
      "text/plain": [
       "True"
      ]
     },
     "execution_count": 28,
     "metadata": {},
     "output_type": "execute_result"
    }
   ],
   "source": [
    "True or False"
   ]
  },
  {
   "cell_type": "code",
   "execution_count": 29,
   "id": "027025a4",
   "metadata": {},
   "outputs": [
    {
     "data": {
      "text/plain": [
       "False"
      ]
     },
     "execution_count": 29,
     "metadata": {},
     "output_type": "execute_result"
    }
   ],
   "source": [
    "False or False"
   ]
  },
  {
   "cell_type": "markdown",
   "id": "9eaf48ba",
   "metadata": {},
   "source": [
    "### not: la inversa"
   ]
  },
  {
   "cell_type": "code",
   "execution_count": 30,
   "id": "7cddcae6",
   "metadata": {},
   "outputs": [
    {
     "data": {
      "text/plain": [
       "False"
      ]
     },
     "execution_count": 30,
     "metadata": {},
     "output_type": "execute_result"
    }
   ],
   "source": [
    "not True"
   ]
  },
  {
   "cell_type": "code",
   "execution_count": 31,
   "id": "b6cc11e7",
   "metadata": {},
   "outputs": [
    {
     "data": {
      "text/plain": [
       "True"
      ]
     },
     "execution_count": 31,
     "metadata": {},
     "output_type": "execute_result"
    }
   ],
   "source": [
    "not False"
   ]
  },
  {
   "cell_type": "markdown",
   "id": "1958e376",
   "metadata": {},
   "source": [
    "# if , else, elif"
   ]
  },
  {
   "cell_type": "code",
   "execution_count": 57,
   "id": "2d27571e",
   "metadata": {},
   "outputs": [],
   "source": [
    "x=3"
   ]
  },
  {
   "cell_type": "code",
   "execution_count": 58,
   "id": "2cae806e",
   "metadata": {},
   "outputs": [],
   "source": [
    "#Si ( si no ponemos si no\" y no se cumple, no actúa)"
   ]
  },
  {
   "cell_type": "code",
   "execution_count": 59,
   "id": "2b06c6b8",
   "metadata": {},
   "outputs": [
    {
     "name": "stdout",
     "output_type": "stream",
     "text": [
      "X es mayor que 2\n"
     ]
    }
   ],
   "source": [
    "if x>2: \n",
    "    print (\"X es mayor que 2\")"
   ]
  },
  {
   "cell_type": "code",
   "execution_count": 60,
   "id": "a2e5f708",
   "metadata": {},
   "outputs": [],
   "source": [
    "#Si, si no.."
   ]
  },
  {
   "cell_type": "code",
   "execution_count": 61,
   "id": "4efdf967",
   "metadata": {},
   "outputs": [
    {
     "name": "stdout",
     "output_type": "stream",
     "text": [
      "X es mayor que 2\n"
     ]
    }
   ],
   "source": [
    "if x>2: \n",
    "    print (\"X es mayor que 2\")\n",
    "else: \n",
    "    print (\"X no es mayor que 2\")"
   ]
  },
  {
   "cell_type": "code",
   "execution_count": 64,
   "id": "1725d07e",
   "metadata": {},
   "outputs": [
    {
     "name": "stdout",
     "output_type": "stream",
     "text": [
      "X es menor que -2\n"
     ]
    }
   ],
   "source": [
    "# elif puedes usar mas condiciones\n",
    "x=-6\n",
    "if x>2: \n",
    "    print (\"X es mayor que 2\")\n",
    "elif x<-2:\n",
    "    print (\"X es menor que -2\")\n",
    "else: \n",
    "    print (\"X no es mayor que 2\")\n",
    "\n",
    "#OJO, si cumple elif, ya no actúa else\n",
    "# else solo actúa si ninguno es cierto"
   ]
  },
  {
   "cell_type": "markdown",
   "id": "7dae27a6",
   "metadata": {},
   "source": [
    "# Extrayendo datos de un DataFrame ( con lógica)"
   ]
  },
  {
   "cell_type": "code",
   "execution_count": 65,
   "id": "1dc57755",
   "metadata": {},
   "outputs": [],
   "source": [
    "import pandas as pd"
   ]
  },
  {
   "cell_type": "code",
   "execution_count": 67,
   "id": "bdabbeb8",
   "metadata": {},
   "outputs": [],
   "source": [
    "paises= [\"China\",\"India\",\"Estados Unidos\",\"Indonesia\",\"Brasil\"]\n",
    "poblaciones = [1.38,1.29,0.33,0.26,0.20]\n",
    "mi_dicc= {\"Países\": paises, \"Población\":poblaciones}\n",
    "Población= pd.DataFrame(mi_dicc)\n",
    "Población.index= [\"CN\",\"IN\",\"US\",\"ID\",\"BR\"]"
   ]
  },
  {
   "cell_type": "code",
   "execution_count": 68,
   "id": "9485f295",
   "metadata": {},
   "outputs": [
    {
     "data": {
      "text/html": [
       "<div>\n",
       "<style scoped>\n",
       "    .dataframe tbody tr th:only-of-type {\n",
       "        vertical-align: middle;\n",
       "    }\n",
       "\n",
       "    .dataframe tbody tr th {\n",
       "        vertical-align: top;\n",
       "    }\n",
       "\n",
       "    .dataframe thead th {\n",
       "        text-align: right;\n",
       "    }\n",
       "</style>\n",
       "<table border=\"1\" class=\"dataframe\">\n",
       "  <thead>\n",
       "    <tr style=\"text-align: right;\">\n",
       "      <th></th>\n",
       "      <th>Países</th>\n",
       "      <th>Población</th>\n",
       "    </tr>\n",
       "  </thead>\n",
       "  <tbody>\n",
       "    <tr>\n",
       "      <th>CN</th>\n",
       "      <td>China</td>\n",
       "      <td>1.38</td>\n",
       "    </tr>\n",
       "    <tr>\n",
       "      <th>IN</th>\n",
       "      <td>India</td>\n",
       "      <td>1.29</td>\n",
       "    </tr>\n",
       "    <tr>\n",
       "      <th>US</th>\n",
       "      <td>Estados Unidos</td>\n",
       "      <td>0.33</td>\n",
       "    </tr>\n",
       "    <tr>\n",
       "      <th>ID</th>\n",
       "      <td>Indonesia</td>\n",
       "      <td>0.26</td>\n",
       "    </tr>\n",
       "    <tr>\n",
       "      <th>BR</th>\n",
       "      <td>Brasil</td>\n",
       "      <td>0.20</td>\n",
       "    </tr>\n",
       "  </tbody>\n",
       "</table>\n",
       "</div>"
      ],
      "text/plain": [
       "            Países  Población\n",
       "CN           China       1.38\n",
       "IN           India       1.29\n",
       "US  Estados Unidos       0.33\n",
       "ID       Indonesia       0.26\n",
       "BR          Brasil       0.20"
      ]
     },
     "execution_count": 68,
     "metadata": {},
     "output_type": "execute_result"
    }
   ],
   "source": [
    "Población"
   ]
  },
  {
   "cell_type": "code",
   "execution_count": 69,
   "id": "494cc35d",
   "metadata": {},
   "outputs": [
    {
     "data": {
      "text/html": [
       "<div>\n",
       "<style scoped>\n",
       "    .dataframe tbody tr th:only-of-type {\n",
       "        vertical-align: middle;\n",
       "    }\n",
       "\n",
       "    .dataframe tbody tr th {\n",
       "        vertical-align: top;\n",
       "    }\n",
       "\n",
       "    .dataframe thead th {\n",
       "        text-align: right;\n",
       "    }\n",
       "</style>\n",
       "<table border=\"1\" class=\"dataframe\">\n",
       "  <thead>\n",
       "    <tr style=\"text-align: right;\">\n",
       "      <th></th>\n",
       "      <th>Población</th>\n",
       "    </tr>\n",
       "  </thead>\n",
       "  <tbody>\n",
       "    <tr>\n",
       "      <th>CN</th>\n",
       "      <td>1.38</td>\n",
       "    </tr>\n",
       "    <tr>\n",
       "      <th>IN</th>\n",
       "      <td>1.29</td>\n",
       "    </tr>\n",
       "    <tr>\n",
       "      <th>US</th>\n",
       "      <td>0.33</td>\n",
       "    </tr>\n",
       "    <tr>\n",
       "      <th>ID</th>\n",
       "      <td>0.26</td>\n",
       "    </tr>\n",
       "    <tr>\n",
       "      <th>BR</th>\n",
       "      <td>0.20</td>\n",
       "    </tr>\n",
       "  </tbody>\n",
       "</table>\n",
       "</div>"
      ],
      "text/plain": [
       "    Población\n",
       "CN       1.38\n",
       "IN       1.29\n",
       "US       0.33\n",
       "ID       0.26\n",
       "BR       0.20"
      ]
     },
     "execution_count": 69,
     "metadata": {},
     "output_type": "execute_result"
    }
   ],
   "source": [
    "Población[[\"Población\"]]"
   ]
  },
  {
   "cell_type": "code",
   "execution_count": 70,
   "id": "e58c7524",
   "metadata": {},
   "outputs": [
    {
     "data": {
      "text/plain": [
       "CN    1.38\n",
       "IN    1.29\n",
       "US    0.33\n",
       "ID    0.26\n",
       "BR    0.20\n",
       "Name: Población, dtype: float64"
      ]
     },
     "execution_count": 70,
     "metadata": {},
     "output_type": "execute_result"
    }
   ],
   "source": [
    "Población.loc[:,\"Población\"]"
   ]
  },
  {
   "cell_type": "code",
   "execution_count": 71,
   "id": "60db0544",
   "metadata": {},
   "outputs": [
    {
     "data": {
      "text/plain": [
       "CN    1.38\n",
       "IN    1.29\n",
       "US    0.33\n",
       "ID    0.26\n",
       "BR    0.20\n",
       "Name: Población, dtype: float64"
      ]
     },
     "execution_count": 71,
     "metadata": {},
     "output_type": "execute_result"
    }
   ],
   "source": [
    "Población.iloc[:,1]"
   ]
  },
  {
   "cell_type": "code",
   "execution_count": 72,
   "id": "d1dd2b66",
   "metadata": {},
   "outputs": [
    {
     "data": {
      "text/plain": [
       "CN     True\n",
       "IN     True\n",
       "US    False\n",
       "ID    False\n",
       "BR    False\n",
       "Name: Población, dtype: bool"
      ]
     },
     "execution_count": 72,
     "metadata": {},
     "output_type": "execute_result"
    }
   ],
   "source": [
    "# Despues del respaso anterior\n",
    "# Qué países tienen población >1?\n",
    "Población[\"Población\"]>1"
   ]
  },
  {
   "cell_type": "code",
   "execution_count": 74,
   "id": "99ad459e",
   "metadata": {},
   "outputs": [
    {
     "data": {
      "text/html": [
       "<div>\n",
       "<style scoped>\n",
       "    .dataframe tbody tr th:only-of-type {\n",
       "        vertical-align: middle;\n",
       "    }\n",
       "\n",
       "    .dataframe tbody tr th {\n",
       "        vertical-align: top;\n",
       "    }\n",
       "\n",
       "    .dataframe thead th {\n",
       "        text-align: right;\n",
       "    }\n",
       "</style>\n",
       "<table border=\"1\" class=\"dataframe\">\n",
       "  <thead>\n",
       "    <tr style=\"text-align: right;\">\n",
       "      <th></th>\n",
       "      <th>Países</th>\n",
       "      <th>Población</th>\n",
       "    </tr>\n",
       "  </thead>\n",
       "  <tbody>\n",
       "    <tr>\n",
       "      <th>CN</th>\n",
       "      <td>China</td>\n",
       "      <td>1.38</td>\n",
       "    </tr>\n",
       "    <tr>\n",
       "      <th>IN</th>\n",
       "      <td>India</td>\n",
       "      <td>1.29</td>\n",
       "    </tr>\n",
       "  </tbody>\n",
       "</table>\n",
       "</div>"
      ],
      "text/plain": [
       "   Países  Población\n",
       "CN  China       1.38\n",
       "IN  India       1.29"
      ]
     },
     "execution_count": 74,
     "metadata": {},
     "output_type": "execute_result"
    }
   ],
   "source": [
    "# coger solo True\n",
    "Población[Población[\"Población\"]>1]"
   ]
  },
  {
   "cell_type": "code",
   "execution_count": 75,
   "id": "cf48554c",
   "metadata": {},
   "outputs": [
    {
     "data": {
      "text/html": [
       "<div>\n",
       "<style scoped>\n",
       "    .dataframe tbody tr th:only-of-type {\n",
       "        vertical-align: middle;\n",
       "    }\n",
       "\n",
       "    .dataframe tbody tr th {\n",
       "        vertical-align: top;\n",
       "    }\n",
       "\n",
       "    .dataframe thead th {\n",
       "        text-align: right;\n",
       "    }\n",
       "</style>\n",
       "<table border=\"1\" class=\"dataframe\">\n",
       "  <thead>\n",
       "    <tr style=\"text-align: right;\">\n",
       "      <th></th>\n",
       "      <th>Países</th>\n",
       "      <th>Población</th>\n",
       "    </tr>\n",
       "  </thead>\n",
       "  <tbody>\n",
       "    <tr>\n",
       "      <th>CN</th>\n",
       "      <td>China</td>\n",
       "      <td>1.38</td>\n",
       "    </tr>\n",
       "    <tr>\n",
       "      <th>IN</th>\n",
       "      <td>India</td>\n",
       "      <td>1.29</td>\n",
       "    </tr>\n",
       "  </tbody>\n",
       "</table>\n",
       "</div>"
      ],
      "text/plain": [
       "   Países  Población\n",
       "CN  China       1.38\n",
       "IN  India       1.29"
      ]
     },
     "execution_count": 75,
     "metadata": {},
     "output_type": "execute_result"
    }
   ],
   "source": [
    "#la otra forma sería poner los resultados en una nueva variable\n",
    "poblados= Población[\"Población\"]>1\n",
    "Población[poblados]"
   ]
  },
  {
   "cell_type": "code",
   "execution_count": 81,
   "id": "e1b877bd",
   "metadata": {},
   "outputs": [],
   "source": [
    "# si queremos coger entre varios valores\n",
    "#usar np.logical_and\n"
   ]
  },
  {
   "cell_type": "code",
   "execution_count": 89,
   "id": "bc49bf61",
   "metadata": {},
   "outputs": [
    {
     "data": {
      "text/plain": [
       "CN    False\n",
       "IN    False\n",
       "US     True\n",
       "ID     True\n",
       "BR    False\n",
       "Name: Población, dtype: bool"
      ]
     },
     "execution_count": 89,
     "metadata": {},
     "output_type": "execute_result"
    }
   ],
   "source": [
    "np.logical_and(Población[\"Población\"] > 0.2,Población[\"Población\"] < 0.5)\n"
   ]
  },
  {
   "cell_type": "code",
   "execution_count": 90,
   "id": "606f701d",
   "metadata": {},
   "outputs": [
    {
     "data": {
      "text/html": [
       "<div>\n",
       "<style scoped>\n",
       "    .dataframe tbody tr th:only-of-type {\n",
       "        vertical-align: middle;\n",
       "    }\n",
       "\n",
       "    .dataframe tbody tr th {\n",
       "        vertical-align: top;\n",
       "    }\n",
       "\n",
       "    .dataframe thead th {\n",
       "        text-align: right;\n",
       "    }\n",
       "</style>\n",
       "<table border=\"1\" class=\"dataframe\">\n",
       "  <thead>\n",
       "    <tr style=\"text-align: right;\">\n",
       "      <th></th>\n",
       "      <th>Países</th>\n",
       "      <th>Población</th>\n",
       "    </tr>\n",
       "  </thead>\n",
       "  <tbody>\n",
       "    <tr>\n",
       "      <th>US</th>\n",
       "      <td>Estados Unidos</td>\n",
       "      <td>0.33</td>\n",
       "    </tr>\n",
       "    <tr>\n",
       "      <th>ID</th>\n",
       "      <td>Indonesia</td>\n",
       "      <td>0.26</td>\n",
       "    </tr>\n",
       "  </tbody>\n",
       "</table>\n",
       "</div>"
      ],
      "text/plain": [
       "            Países  Población\n",
       "US  Estados Unidos       0.33\n",
       "ID       Indonesia       0.26"
      ]
     },
     "execution_count": 90,
     "metadata": {},
     "output_type": "execute_result"
    }
   ],
   "source": [
    "Pueblitos= np.logical_and(Población[\"Población\"] > 0.2,Población[\"Población\"] < 0.5)\n",
    "Población[Pueblitos]"
   ]
  },
  {
   "cell_type": "code",
   "execution_count": null,
   "id": "17731138",
   "metadata": {},
   "outputs": [],
   "source": []
  }
 ],
 "metadata": {
  "kernelspec": {
   "display_name": "Python 3 (ipykernel)",
   "language": "python",
   "name": "python3"
  },
  "language_info": {
   "codemirror_mode": {
    "name": "ipython",
    "version": 3
   },
   "file_extension": ".py",
   "mimetype": "text/x-python",
   "name": "python",
   "nbconvert_exporter": "python",
   "pygments_lexer": "ipython3",
   "version": "3.10.0"
  }
 },
 "nbformat": 4,
 "nbformat_minor": 5
}
