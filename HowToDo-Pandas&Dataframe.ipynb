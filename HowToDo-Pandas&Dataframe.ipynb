{
 "cells": [
  {
   "cell_type": "code",
   "execution_count": 1,
   "id": "104dcbb9",
   "metadata": {},
   "outputs": [],
   "source": [
    "# Uno de los paquetes más utilizados por  Data Scientist\n",
    "# Numpy es sólo 2D, para tablas de datos tabulares se usa esto"
   ]
  },
  {
   "cell_type": "markdown",
   "id": "1208b946",
   "metadata": {},
   "source": [
    "# Pandas + Dataframe"
   ]
  },
  {
   "cell_type": "code",
   "execution_count": 3,
   "id": "679b7d94",
   "metadata": {},
   "outputs": [
    {
     "name": "stdout",
     "output_type": "stream",
     "text": [
      "Collecting pandas\n",
      "  Using cached pandas-1.3.4.tar.gz (4.7 MB)\n",
      "  Installing build dependencies: started\n",
      "  Installing build dependencies: still running...\n",
      "  Installing build dependencies: still running...\n",
      "  Installing build dependencies: finished with status 'done'\n",
      "  Getting requirements to build wheel: started\n",
      "  Getting requirements to build wheel: still running...\n",
      "  Getting requirements to build wheel: finished with status 'done'\n",
      "  Preparing wheel metadata (pyproject.toml): started\n",
      "  Preparing wheel metadata (pyproject.toml): finished with status 'done'\n",
      "Requirement already satisfied: numpy>=1.21.0 in c:\\users\\sergi\\appdata\\local\\programs\\python\\python310\\lib\\site-packages (from pandas) (1.21.3)\n",
      "Collecting pytz>=2017.3\n",
      "  Downloading pytz-2021.3-py2.py3-none-any.whl (503 kB)\n",
      "Requirement already satisfied: python-dateutil>=2.7.3 in c:\\users\\sergi\\appdata\\local\\programs\\python\\python310\\lib\\site-packages (from pandas) (2.8.2)\n",
      "Requirement already satisfied: six>=1.5 in c:\\users\\sergi\\appdata\\local\\programs\\python\\python310\\lib\\site-packages (from python-dateutil>=2.7.3->pandas) (1.16.0)\n",
      "Building wheels for collected packages: pandas\n",
      "  Building wheel for pandas (pyproject.toml): started\n",
      "  Building wheel for pandas (pyproject.toml): still running...\n",
      "  Building wheel for pandas (pyproject.toml): still running...\n",
      "  Building wheel for pandas (pyproject.toml): finished with status 'done'\n",
      "  Created wheel for pandas: filename=pandas-1.3.4-cp310-cp310-win_amd64.whl size=10048770 sha256=96c53ff0821f5288699caffce2cae8d3285e1e9b0c6fc0bc3f8f4833685be2be\n",
      "  Stored in directory: c:\\users\\sergi\\appdata\\local\\pip\\cache\\wheels\\f5\\c7\\c7\\67b16ccaa45a66d1b9a188c3e3fc8238de49d6aa5e1420d2b6\n",
      "Successfully built pandas\n",
      "Installing collected packages: pytz, pandas\n",
      "Successfully installed pandas-1.3.4 pytz-2021.3\n",
      "Note: you may need to restart the kernel to use updated packages.\n"
     ]
    }
   ],
   "source": [
    "pip install pandas "
   ]
  },
  {
   "cell_type": "code",
   "execution_count": 10,
   "id": "19c0d809",
   "metadata": {},
   "outputs": [],
   "source": [
    "import pandas as pd"
   ]
  },
  {
   "cell_type": "code",
   "execution_count": 2,
   "id": "e71372a9",
   "metadata": {},
   "outputs": [],
   "source": [
    "# si no trabajamos en LOCAl ( jupyter notebbok, en Azure por ejemplo) \n",
    "# hay que  subir el archivo de datos \"datos\".csv"
   ]
  },
  {
   "cell_type": "code",
   "execution_count": 3,
   "id": "d2281426",
   "metadata": {},
   "outputs": [],
   "source": [
    "paises=[\"China\",\"India\",\"Estados Unidos\",\"Indonesia\",\"Brasil\"]\n",
    "poblaciones= [1.38,1.29,0.33,0.26,0.20]"
   ]
  },
  {
   "cell_type": "code",
   "execution_count": 5,
   "id": "73b14b69",
   "metadata": {},
   "outputs": [],
   "source": [
    "# Creamos el dicccionario\n",
    "mi_dicc = { \"Países\": paises, \"Población\": poblaciones}"
   ]
  },
  {
   "cell_type": "code",
   "execution_count": 6,
   "id": "dc721645",
   "metadata": {},
   "outputs": [
    {
     "data": {
      "text/plain": [
       "{'Países': ['China', 'India', 'Estados Unidos', 'Indonesia', 'Brasil'],\n",
       " 'Población': [1.38, 1.29, 0.33, 0.26, 0.2]}"
      ]
     },
     "execution_count": 6,
     "metadata": {},
     "output_type": "execute_result"
    }
   ],
   "source": [
    "mi_dicc"
   ]
  },
  {
   "cell_type": "code",
   "execution_count": 7,
   "id": "eff32fd0",
   "metadata": {},
   "outputs": [
    {
     "data": {
      "text/plain": [
       "dict"
      ]
     },
     "execution_count": 7,
     "metadata": {},
     "output_type": "execute_result"
    }
   ],
   "source": [
    "type(mi_dicc)"
   ]
  },
  {
   "cell_type": "code",
   "execution_count": 11,
   "id": "40a69214",
   "metadata": {},
   "outputs": [],
   "source": [
    "# Ahora podemos crear un DataFrame\n",
    "Población = pd.DataFrame(mi_dicc)"
   ]
  },
  {
   "cell_type": "code",
   "execution_count": 12,
   "id": "ae225c3d",
   "metadata": {},
   "outputs": [
    {
     "data": {
      "text/html": [
       "<div>\n",
       "<style scoped>\n",
       "    .dataframe tbody tr th:only-of-type {\n",
       "        vertical-align: middle;\n",
       "    }\n",
       "\n",
       "    .dataframe tbody tr th {\n",
       "        vertical-align: top;\n",
       "    }\n",
       "\n",
       "    .dataframe thead th {\n",
       "        text-align: right;\n",
       "    }\n",
       "</style>\n",
       "<table border=\"1\" class=\"dataframe\">\n",
       "  <thead>\n",
       "    <tr style=\"text-align: right;\">\n",
       "      <th></th>\n",
       "      <th>Países</th>\n",
       "      <th>Población</th>\n",
       "    </tr>\n",
       "  </thead>\n",
       "  <tbody>\n",
       "    <tr>\n",
       "      <th>0</th>\n",
       "      <td>China</td>\n",
       "      <td>1.38</td>\n",
       "    </tr>\n",
       "    <tr>\n",
       "      <th>1</th>\n",
       "      <td>India</td>\n",
       "      <td>1.29</td>\n",
       "    </tr>\n",
       "    <tr>\n",
       "      <th>2</th>\n",
       "      <td>Estados Unidos</td>\n",
       "      <td>0.33</td>\n",
       "    </tr>\n",
       "    <tr>\n",
       "      <th>3</th>\n",
       "      <td>Indonesia</td>\n",
       "      <td>0.26</td>\n",
       "    </tr>\n",
       "    <tr>\n",
       "      <th>4</th>\n",
       "      <td>Brasil</td>\n",
       "      <td>0.20</td>\n",
       "    </tr>\n",
       "  </tbody>\n",
       "</table>\n",
       "</div>"
      ],
      "text/plain": [
       "           Países  Población\n",
       "0           China       1.38\n",
       "1           India       1.29\n",
       "2  Estados Unidos       0.33\n",
       "3       Indonesia       0.26\n",
       "4          Brasil       0.20"
      ]
     },
     "execution_count": 12,
     "metadata": {},
     "output_type": "execute_result"
    }
   ],
   "source": [
    "Población"
   ]
  },
  {
   "cell_type": "markdown",
   "id": "ceefd2b7",
   "metadata": {},
   "source": [
    "## Índices"
   ]
  },
  {
   "cell_type": "code",
   "execution_count": 13,
   "id": "55bd2ee3",
   "metadata": {},
   "outputs": [],
   "source": [
    "# Crear indices\n",
    "Población.index= [\"CN\",\"IN\",\"US\",\"ID\",\"BR\"]"
   ]
  },
  {
   "cell_type": "code",
   "execution_count": 14,
   "id": "b4fcc312",
   "metadata": {},
   "outputs": [
    {
     "data": {
      "text/html": [
       "<div>\n",
       "<style scoped>\n",
       "    .dataframe tbody tr th:only-of-type {\n",
       "        vertical-align: middle;\n",
       "    }\n",
       "\n",
       "    .dataframe tbody tr th {\n",
       "        vertical-align: top;\n",
       "    }\n",
       "\n",
       "    .dataframe thead th {\n",
       "        text-align: right;\n",
       "    }\n",
       "</style>\n",
       "<table border=\"1\" class=\"dataframe\">\n",
       "  <thead>\n",
       "    <tr style=\"text-align: right;\">\n",
       "      <th></th>\n",
       "      <th>Países</th>\n",
       "      <th>Población</th>\n",
       "    </tr>\n",
       "  </thead>\n",
       "  <tbody>\n",
       "    <tr>\n",
       "      <th>CN</th>\n",
       "      <td>China</td>\n",
       "      <td>1.38</td>\n",
       "    </tr>\n",
       "    <tr>\n",
       "      <th>IN</th>\n",
       "      <td>India</td>\n",
       "      <td>1.29</td>\n",
       "    </tr>\n",
       "    <tr>\n",
       "      <th>US</th>\n",
       "      <td>Estados Unidos</td>\n",
       "      <td>0.33</td>\n",
       "    </tr>\n",
       "    <tr>\n",
       "      <th>ID</th>\n",
       "      <td>Indonesia</td>\n",
       "      <td>0.26</td>\n",
       "    </tr>\n",
       "    <tr>\n",
       "      <th>BR</th>\n",
       "      <td>Brasil</td>\n",
       "      <td>0.20</td>\n",
       "    </tr>\n",
       "  </tbody>\n",
       "</table>\n",
       "</div>"
      ],
      "text/plain": [
       "            Países  Población\n",
       "CN           China       1.38\n",
       "IN           India       1.29\n",
       "US  Estados Unidos       0.33\n",
       "ID       Indonesia       0.26\n",
       "BR          Brasil       0.20"
      ]
     },
     "execution_count": 14,
     "metadata": {},
     "output_type": "execute_result"
    }
   ],
   "source": [
    "Población"
   ]
  },
  {
   "cell_type": "code",
   "execution_count": 15,
   "id": "7fa92789",
   "metadata": {},
   "outputs": [
    {
     "data": {
      "text/plain": [
       "CN             China\n",
       "IN             India\n",
       "US    Estados Unidos\n",
       "ID         Indonesia\n",
       "BR            Brasil\n",
       "Name: Países, dtype: object"
      ]
     },
     "execution_count": 15,
     "metadata": {},
     "output_type": "execute_result"
    }
   ],
   "source": [
    "# Como se accede a estos datos\n",
    "# Primero accedemos a 1 columna , \"países\"\n",
    "Población [\"Países\"]"
   ]
  },
  {
   "cell_type": "code",
   "execution_count": 18,
   "id": "e503f84a",
   "metadata": {},
   "outputs": [
    {
     "data": {
      "text/plain": [
       "pandas.core.series.Series"
      ]
     },
     "execution_count": 18,
     "metadata": {},
     "output_type": "execute_result"
    }
   ],
   "source": [
    "# Es una serie de una columna, pero sigue siendo un DataFrame\n",
    "type (Población [\"Países\"])"
   ]
  },
  {
   "cell_type": "code",
   "execution_count": 19,
   "id": "30e3446e",
   "metadata": {},
   "outputs": [
    {
     "data": {
      "text/html": [
       "<div>\n",
       "<style scoped>\n",
       "    .dataframe tbody tr th:only-of-type {\n",
       "        vertical-align: middle;\n",
       "    }\n",
       "\n",
       "    .dataframe tbody tr th {\n",
       "        vertical-align: top;\n",
       "    }\n",
       "\n",
       "    .dataframe thead th {\n",
       "        text-align: right;\n",
       "    }\n",
       "</style>\n",
       "<table border=\"1\" class=\"dataframe\">\n",
       "  <thead>\n",
       "    <tr style=\"text-align: right;\">\n",
       "      <th></th>\n",
       "      <th>Países</th>\n",
       "    </tr>\n",
       "  </thead>\n",
       "  <tbody>\n",
       "    <tr>\n",
       "      <th>CN</th>\n",
       "      <td>China</td>\n",
       "    </tr>\n",
       "    <tr>\n",
       "      <th>IN</th>\n",
       "      <td>India</td>\n",
       "    </tr>\n",
       "    <tr>\n",
       "      <th>US</th>\n",
       "      <td>Estados Unidos</td>\n",
       "    </tr>\n",
       "    <tr>\n",
       "      <th>ID</th>\n",
       "      <td>Indonesia</td>\n",
       "    </tr>\n",
       "    <tr>\n",
       "      <th>BR</th>\n",
       "      <td>Brasil</td>\n",
       "    </tr>\n",
       "  </tbody>\n",
       "</table>\n",
       "</div>"
      ],
      "text/plain": [
       "            Países\n",
       "CN           China\n",
       "IN           India\n",
       "US  Estados Unidos\n",
       "ID       Indonesia\n",
       "BR          Brasil"
      ]
     },
     "execution_count": 19,
     "metadata": {},
     "output_type": "execute_result"
    }
   ],
   "source": [
    "# Para sacar un DataFrame se usan [[]]\n",
    "Población [[\"Países\"]]"
   ]
  },
  {
   "cell_type": "code",
   "execution_count": 20,
   "id": "54bdfc1f",
   "metadata": {},
   "outputs": [
    {
     "data": {
      "text/plain": [
       "pandas.core.frame.DataFrame"
      ]
     },
     "execution_count": 20,
     "metadata": {},
     "output_type": "execute_result"
    }
   ],
   "source": [
    "type(Población[[\"Países\"]])"
   ]
  },
  {
   "cell_type": "code",
   "execution_count": 21,
   "id": "afb12dfc",
   "metadata": {},
   "outputs": [
    {
     "data": {
      "text/html": [
       "<div>\n",
       "<style scoped>\n",
       "    .dataframe tbody tr th:only-of-type {\n",
       "        vertical-align: middle;\n",
       "    }\n",
       "\n",
       "    .dataframe tbody tr th {\n",
       "        vertical-align: top;\n",
       "    }\n",
       "\n",
       "    .dataframe thead th {\n",
       "        text-align: right;\n",
       "    }\n",
       "</style>\n",
       "<table border=\"1\" class=\"dataframe\">\n",
       "  <thead>\n",
       "    <tr style=\"text-align: right;\">\n",
       "      <th></th>\n",
       "      <th>Países</th>\n",
       "      <th>Población</th>\n",
       "    </tr>\n",
       "  </thead>\n",
       "  <tbody>\n",
       "    <tr>\n",
       "      <th>CN</th>\n",
       "      <td>China</td>\n",
       "      <td>1.38</td>\n",
       "    </tr>\n",
       "    <tr>\n",
       "      <th>IN</th>\n",
       "      <td>India</td>\n",
       "      <td>1.29</td>\n",
       "    </tr>\n",
       "    <tr>\n",
       "      <th>US</th>\n",
       "      <td>Estados Unidos</td>\n",
       "      <td>0.33</td>\n",
       "    </tr>\n",
       "  </tbody>\n",
       "</table>\n",
       "</div>"
      ],
      "text/plain": [
       "            Países  Población\n",
       "CN           China       1.38\n",
       "IN           India       1.29\n",
       "US  Estados Unidos       0.33"
      ]
     },
     "execution_count": 21,
     "metadata": {},
     "output_type": "execute_result"
    }
   ],
   "source": [
    "# se pueden meter más columnas [[\"asf\",\"asdf\"]]\n",
    "#Se pueden sacar filas también\n",
    "Población [0:3]"
   ]
  },
  {
   "cell_type": "markdown",
   "id": "06b80f6a",
   "metadata": {},
   "source": [
    "## Loc & ILoc para escojer datos específicos"
   ]
  },
  {
   "cell_type": "code",
   "execution_count": 22,
   "id": "67e85811",
   "metadata": {},
   "outputs": [],
   "source": [
    "# Loc utiliza la etiqueta\n",
    "# Iloc utiliza la posición"
   ]
  },
  {
   "cell_type": "code",
   "execution_count": 24,
   "id": "75e1149c",
   "metadata": {},
   "outputs": [
    {
     "data": {
      "text/plain": [
       "Países       India\n",
       "Población     1.29\n",
       "Name: IN, dtype: object"
      ]
     },
     "execution_count": 24,
     "metadata": {},
     "output_type": "execute_result"
    }
   ],
   "source": [
    "#loc\n",
    "#ojo, sacamos en serie\n",
    "Población.loc[\"IN\"]"
   ]
  },
  {
   "cell_type": "code",
   "execution_count": 25,
   "id": "f6d9e1fb",
   "metadata": {},
   "outputs": [
    {
     "data": {
      "text/html": [
       "<div>\n",
       "<style scoped>\n",
       "    .dataframe tbody tr th:only-of-type {\n",
       "        vertical-align: middle;\n",
       "    }\n",
       "\n",
       "    .dataframe tbody tr th {\n",
       "        vertical-align: top;\n",
       "    }\n",
       "\n",
       "    .dataframe thead th {\n",
       "        text-align: right;\n",
       "    }\n",
       "</style>\n",
       "<table border=\"1\" class=\"dataframe\">\n",
       "  <thead>\n",
       "    <tr style=\"text-align: right;\">\n",
       "      <th></th>\n",
       "      <th>Países</th>\n",
       "      <th>Población</th>\n",
       "    </tr>\n",
       "  </thead>\n",
       "  <tbody>\n",
       "    <tr>\n",
       "      <th>IN</th>\n",
       "      <td>India</td>\n",
       "      <td>1.29</td>\n",
       "    </tr>\n",
       "  </tbody>\n",
       "</table>\n",
       "</div>"
      ],
      "text/plain": [
       "   Países  Población\n",
       "IN  India       1.29"
      ]
     },
     "execution_count": 25,
     "metadata": {},
     "output_type": "execute_result"
    }
   ],
   "source": [
    "# Recordar, en Dataframe son 2[[]]\n",
    "Población.loc [[\"IN\"]]"
   ]
  },
  {
   "cell_type": "code",
   "execution_count": 26,
   "id": "a979c821",
   "metadata": {},
   "outputs": [
    {
     "data": {
      "text/html": [
       "<div>\n",
       "<style scoped>\n",
       "    .dataframe tbody tr th:only-of-type {\n",
       "        vertical-align: middle;\n",
       "    }\n",
       "\n",
       "    .dataframe tbody tr th {\n",
       "        vertical-align: top;\n",
       "    }\n",
       "\n",
       "    .dataframe thead th {\n",
       "        text-align: right;\n",
       "    }\n",
       "</style>\n",
       "<table border=\"1\" class=\"dataframe\">\n",
       "  <thead>\n",
       "    <tr style=\"text-align: right;\">\n",
       "      <th></th>\n",
       "      <th>Población</th>\n",
       "    </tr>\n",
       "  </thead>\n",
       "  <tbody>\n",
       "    <tr>\n",
       "      <th>IN</th>\n",
       "      <td>1.29</td>\n",
       "    </tr>\n",
       "  </tbody>\n",
       "</table>\n",
       "</div>"
      ],
      "text/plain": [
       "    Población\n",
       "IN       1.29"
      ]
     },
     "execution_count": 26,
     "metadata": {},
     "output_type": "execute_result"
    }
   ],
   "source": [
    "# si quiero sacar solo \"algo\"\n",
    "Población.loc[[\"IN\"],[\"Población\"]]"
   ]
  },
  {
   "cell_type": "code",
   "execution_count": 28,
   "id": "d08eb36f",
   "metadata": {},
   "outputs": [
    {
     "data": {
      "text/html": [
       "<div>\n",
       "<style scoped>\n",
       "    .dataframe tbody tr th:only-of-type {\n",
       "        vertical-align: middle;\n",
       "    }\n",
       "\n",
       "    .dataframe tbody tr th {\n",
       "        vertical-align: top;\n",
       "    }\n",
       "\n",
       "    .dataframe thead th {\n",
       "        text-align: right;\n",
       "    }\n",
       "</style>\n",
       "<table border=\"1\" class=\"dataframe\">\n",
       "  <thead>\n",
       "    <tr style=\"text-align: right;\">\n",
       "      <th></th>\n",
       "      <th>Población</th>\n",
       "    </tr>\n",
       "  </thead>\n",
       "  <tbody>\n",
       "    <tr>\n",
       "      <th>CN</th>\n",
       "      <td>1.38</td>\n",
       "    </tr>\n",
       "    <tr>\n",
       "      <th>IN</th>\n",
       "      <td>1.29</td>\n",
       "    </tr>\n",
       "    <tr>\n",
       "      <th>US</th>\n",
       "      <td>0.33</td>\n",
       "    </tr>\n",
       "    <tr>\n",
       "      <th>ID</th>\n",
       "      <td>0.26</td>\n",
       "    </tr>\n",
       "    <tr>\n",
       "      <th>BR</th>\n",
       "      <td>0.20</td>\n",
       "    </tr>\n",
       "  </tbody>\n",
       "</table>\n",
       "</div>"
      ],
      "text/plain": [
       "    Población\n",
       "CN       1.38\n",
       "IN       1.29\n",
       "US       0.33\n",
       "ID       0.26\n",
       "BR       0.20"
      ]
     },
     "execution_count": 28,
     "metadata": {},
     "output_type": "execute_result"
    }
   ],
   "source": [
    "# si quiero sacar 1 dato de todos\n",
    "Población.loc[:,[\"Población\"]]"
   ]
  },
  {
   "cell_type": "code",
   "execution_count": 29,
   "id": "526f6a5b",
   "metadata": {},
   "outputs": [],
   "source": [
    "#ILOC\n",
    "# sacar por posición"
   ]
  },
  {
   "cell_type": "code",
   "execution_count": 31,
   "id": "97a47631",
   "metadata": {},
   "outputs": [
    {
     "data": {
      "text/plain": [
       "Países       India\n",
       "Población     1.29\n",
       "Name: IN, dtype: object"
      ]
     },
     "execution_count": 31,
     "metadata": {},
     "output_type": "execute_result"
    }
   ],
   "source": [
    "#seeeerie\n",
    "Población.iloc[1]"
   ]
  },
  {
   "cell_type": "code",
   "execution_count": 34,
   "id": "18b833c9",
   "metadata": {},
   "outputs": [
    {
     "data": {
      "text/html": [
       "<div>\n",
       "<style scoped>\n",
       "    .dataframe tbody tr th:only-of-type {\n",
       "        vertical-align: middle;\n",
       "    }\n",
       "\n",
       "    .dataframe tbody tr th {\n",
       "        vertical-align: top;\n",
       "    }\n",
       "\n",
       "    .dataframe thead th {\n",
       "        text-align: right;\n",
       "    }\n",
       "</style>\n",
       "<table border=\"1\" class=\"dataframe\">\n",
       "  <thead>\n",
       "    <tr style=\"text-align: right;\">\n",
       "      <th></th>\n",
       "      <th>Países</th>\n",
       "      <th>Población</th>\n",
       "    </tr>\n",
       "  </thead>\n",
       "  <tbody>\n",
       "    <tr>\n",
       "      <th>IN</th>\n",
       "      <td>India</td>\n",
       "      <td>1.29</td>\n",
       "    </tr>\n",
       "  </tbody>\n",
       "</table>\n",
       "</div>"
      ],
      "text/plain": [
       "   Países  Población\n",
       "IN  India       1.29"
      ]
     },
     "execution_count": 34,
     "metadata": {},
     "output_type": "execute_result"
    }
   ],
   "source": [
    "#Dataframe\n",
    "Población.iloc[[1]]"
   ]
  },
  {
   "cell_type": "code",
   "execution_count": 35,
   "id": "a9a7f823",
   "metadata": {},
   "outputs": [
    {
     "data": {
      "text/html": [
       "<div>\n",
       "<style scoped>\n",
       "    .dataframe tbody tr th:only-of-type {\n",
       "        vertical-align: middle;\n",
       "    }\n",
       "\n",
       "    .dataframe tbody tr th {\n",
       "        vertical-align: top;\n",
       "    }\n",
       "\n",
       "    .dataframe thead th {\n",
       "        text-align: right;\n",
       "    }\n",
       "</style>\n",
       "<table border=\"1\" class=\"dataframe\">\n",
       "  <thead>\n",
       "    <tr style=\"text-align: right;\">\n",
       "      <th></th>\n",
       "      <th>Población</th>\n",
       "    </tr>\n",
       "  </thead>\n",
       "  <tbody>\n",
       "    <tr>\n",
       "      <th>IN</th>\n",
       "      <td>1.29</td>\n",
       "    </tr>\n",
       "  </tbody>\n",
       "</table>\n",
       "</div>"
      ],
      "text/plain": [
       "    Población\n",
       "IN       1.29"
      ]
     },
     "execution_count": 35,
     "metadata": {},
     "output_type": "execute_result"
    }
   ],
   "source": [
    "Población.iloc[[1],[1]]"
   ]
  },
  {
   "cell_type": "code",
   "execution_count": 36,
   "id": "37249dd3",
   "metadata": {},
   "outputs": [
    {
     "data": {
      "text/html": [
       "<div>\n",
       "<style scoped>\n",
       "    .dataframe tbody tr th:only-of-type {\n",
       "        vertical-align: middle;\n",
       "    }\n",
       "\n",
       "    .dataframe tbody tr th {\n",
       "        vertical-align: top;\n",
       "    }\n",
       "\n",
       "    .dataframe thead th {\n",
       "        text-align: right;\n",
       "    }\n",
       "</style>\n",
       "<table border=\"1\" class=\"dataframe\">\n",
       "  <thead>\n",
       "    <tr style=\"text-align: right;\">\n",
       "      <th></th>\n",
       "      <th>Población</th>\n",
       "    </tr>\n",
       "  </thead>\n",
       "  <tbody>\n",
       "    <tr>\n",
       "      <th>CN</th>\n",
       "      <td>1.38</td>\n",
       "    </tr>\n",
       "    <tr>\n",
       "      <th>IN</th>\n",
       "      <td>1.29</td>\n",
       "    </tr>\n",
       "    <tr>\n",
       "      <th>US</th>\n",
       "      <td>0.33</td>\n",
       "    </tr>\n",
       "    <tr>\n",
       "      <th>ID</th>\n",
       "      <td>0.26</td>\n",
       "    </tr>\n",
       "    <tr>\n",
       "      <th>BR</th>\n",
       "      <td>0.20</td>\n",
       "    </tr>\n",
       "  </tbody>\n",
       "</table>\n",
       "</div>"
      ],
      "text/plain": [
       "    Población\n",
       "CN       1.38\n",
       "IN       1.29\n",
       "US       0.33\n",
       "ID       0.26\n",
       "BR       0.20"
      ]
     },
     "execution_count": 36,
     "metadata": {},
     "output_type": "execute_result"
    }
   ],
   "source": [
    "Población.iloc[:,[1]]"
   ]
  },
  {
   "cell_type": "code",
   "execution_count": null,
   "id": "0cf24afc",
   "metadata": {},
   "outputs": [],
   "source": []
  }
 ],
 "metadata": {
  "kernelspec": {
   "display_name": "Python 3 (ipykernel)",
   "language": "python",
   "name": "python3"
  },
  "language_info": {
   "codemirror_mode": {
    "name": "ipython",
    "version": 3
   },
   "file_extension": ".py",
   "mimetype": "text/x-python",
   "name": "python",
   "nbconvert_exporter": "python",
   "pygments_lexer": "ipython3",
   "version": "3.10.0"
  }
 },
 "nbformat": 4,
 "nbformat_minor": 5
}
