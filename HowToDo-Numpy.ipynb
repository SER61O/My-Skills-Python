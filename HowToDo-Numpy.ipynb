{
 "cells": [
  {
   "cell_type": "markdown",
   "id": "27c4c345",
   "metadata": {},
   "source": [
    "# Introducción a Numpy"
   ]
  },
  {
   "cell_type": "code",
   "execution_count": 3,
   "id": "48482046",
   "metadata": {},
   "outputs": [],
   "source": [
    "import numpy as np"
   ]
  },
  {
   "cell_type": "code",
   "execution_count": null,
   "id": "1ed3724d",
   "metadata": {},
   "outputs": [],
   "source": [
    "# Alternativa a \"listas\", se utilizan \"matrices\"\n"
   ]
  },
  {
   "cell_type": "code",
   "execution_count": 4,
   "id": "55c4a81d",
   "metadata": {},
   "outputs": [],
   "source": [
    "peso= [45,55,65]\n",
    "alturas= [1.50,1.65,1.71]"
   ]
  },
  {
   "cell_type": "code",
   "execution_count": 5,
   "id": "687633f0",
   "metadata": {},
   "outputs": [
    {
     "ename": "TypeError",
     "evalue": "unsupported operand type(s) for ** or pow(): 'list' and 'int'",
     "output_type": "error",
     "traceback": [
      "\u001b[1;31m---------------------------------------------------------------------------\u001b[0m",
      "\u001b[1;31mTypeError\u001b[0m                                 Traceback (most recent call last)",
      "\u001b[1;32m~\\AppData\\Local\\Temp/ipykernel_21160/2483639646.py\u001b[0m in \u001b[0;36m<module>\u001b[1;34m\u001b[0m\n\u001b[1;32m----> 1\u001b[1;33m \u001b[0mbmi\u001b[0m\u001b[1;33m=\u001b[0m \u001b[0mpeso\u001b[0m\u001b[1;33m/\u001b[0m \u001b[0malturas\u001b[0m \u001b[1;33m**\u001b[0m \u001b[1;36m2\u001b[0m\u001b[1;33m\u001b[0m\u001b[1;33m\u001b[0m\u001b[0m\n\u001b[0m",
      "\u001b[1;31mTypeError\u001b[0m: unsupported operand type(s) for ** or pow(): 'list' and 'int'"
     ]
    }
   ],
   "source": [
    "bmi= peso/ alturas ** 2\n",
    "# no podemos dividir una lista entre otra lista"
   ]
  },
  {
   "cell_type": "code",
   "execution_count": 7,
   "id": "239c5ac9",
   "metadata": {},
   "outputs": [],
   "source": [
    "np_peso= np.array(peso)\n",
    "np_alturas= np.array(alturas)\n",
    "np_bmi= np_peso / (np_alturas **2)"
   ]
  },
  {
   "cell_type": "code",
   "execution_count": 8,
   "id": "858df979",
   "metadata": {},
   "outputs": [
    {
     "data": {
      "text/plain": [
       "array([20.        , 20.2020202 , 22.22906193])"
      ]
     },
     "execution_count": 8,
     "metadata": {},
     "output_type": "execute_result"
    }
   ],
   "source": [
    "np_bmi"
   ]
  },
  {
   "cell_type": "code",
   "execution_count": 9,
   "id": "95e06556",
   "metadata": {},
   "outputs": [],
   "source": [
    "# Se puede dividir listas entre sí con numpy\n",
    "# Cada matriz de numpy tiene que ser solo de Un tipo"
   ]
  },
  {
   "cell_type": "code",
   "execution_count": 10,
   "id": "c487bf7f",
   "metadata": {},
   "outputs": [
    {
     "data": {
      "text/plain": [
       "array(['1.5', 'dos', 'True'], dtype='<U32')"
      ]
     },
     "execution_count": 10,
     "metadata": {},
     "output_type": "execute_result"
    }
   ],
   "source": [
    "prueba = np.array ([1.5,\"dos\", True])\n",
    "prueba"
   ]
  },
  {
   "cell_type": "code",
   "execution_count": 11,
   "id": "34bfc0d8",
   "metadata": {},
   "outputs": [],
   "source": [
    "#acaba de convertir todos los objetos a str : Coherción"
   ]
  },
  {
   "cell_type": "markdown",
   "id": "514dfde2",
   "metadata": {},
   "source": [
    "## Suma con matrices ( Numpy)"
   ]
  },
  {
   "cell_type": "code",
   "execution_count": 12,
   "id": "95d6a6cd",
   "metadata": {},
   "outputs": [
    {
     "data": {
      "text/plain": [
       "[1, 2, 3, 1, 2, 3]"
      ]
     },
     "execution_count": 12,
     "metadata": {},
     "output_type": "execute_result"
    }
   ],
   "source": [
    "list= [1,2,3]\n",
    "list + list\n",
    "# concatena list"
   ]
  },
  {
   "cell_type": "code",
   "execution_count": 13,
   "id": "2912d73a",
   "metadata": {},
   "outputs": [
    {
     "data": {
      "text/plain": [
       "array([2, 4, 6])"
      ]
     },
     "execution_count": 13,
     "metadata": {},
     "output_type": "execute_result"
    }
   ],
   "source": [
    "#pasamos a matriz la list\n",
    "lista = np.array(list)\n",
    "lista + lista\n",
    "#suma los elementos de \"lista\""
   ]
  },
  {
   "cell_type": "code",
   "execution_count": 14,
   "id": "a487207c",
   "metadata": {},
   "outputs": [
    {
     "data": {
      "text/plain": [
       "2"
      ]
     },
     "execution_count": 14,
     "metadata": {},
     "output_type": "execute_result"
    }
   ],
   "source": [
    "#podemos extraer elementos de matrices también\n",
    "lista [1]"
   ]
  },
  {
   "cell_type": "code",
   "execution_count": 15,
   "id": "75316702",
   "metadata": {},
   "outputs": [
    {
     "data": {
      "text/plain": [
       "array([False, False,  True])"
      ]
     },
     "execution_count": 15,
     "metadata": {},
     "output_type": "execute_result"
    }
   ],
   "source": [
    "# o que cumplan condiciones\n",
    "lista > 2"
   ]
  },
  {
   "cell_type": "code",
   "execution_count": 16,
   "id": "42b610cb",
   "metadata": {},
   "outputs": [
    {
     "data": {
      "text/plain": [
       "array([1])"
      ]
     },
     "execution_count": 16,
     "metadata": {},
     "output_type": "execute_result"
    }
   ],
   "source": [
    "lista [:1]"
   ]
  },
  {
   "cell_type": "code",
   "execution_count": 17,
   "id": "8cea08f6",
   "metadata": {},
   "outputs": [
    {
     "data": {
      "text/plain": [
       "array([2, 3])"
      ]
     },
     "execution_count": 17,
     "metadata": {},
     "output_type": "execute_result"
    }
   ],
   "source": [
    "lista [1:]"
   ]
  },
  {
   "cell_type": "markdown",
   "id": "8cd27d9a",
   "metadata": {},
   "source": [
    "## Matrices 2d"
   ]
  },
  {
   "cell_type": "code",
   "execution_count": 18,
   "id": "cc922c94",
   "metadata": {},
   "outputs": [
    {
     "data": {
      "text/plain": [
       "array([[45.  , 55.  , 65.  ],\n",
       "       [ 1.5 ,  1.65,  1.71]])"
      ]
     },
     "execution_count": 18,
     "metadata": {},
     "output_type": "execute_result"
    }
   ],
   "source": [
    "#crear una matriz con 2 dimensiones ( 2 filas)\n",
    "np_2d = np.array([peso,alturas])\n",
    "np_2d"
   ]
  },
  {
   "cell_type": "code",
   "execution_count": 19,
   "id": "a6431526",
   "metadata": {},
   "outputs": [
    {
     "data": {
      "text/plain": [
       "(2, 3)"
      ]
     },
     "execution_count": 19,
     "metadata": {},
     "output_type": "execute_result"
    }
   ],
   "source": [
    "# para ver el numero de filas y columnas\n",
    "np_2d.shape\n",
    "#2 filas, 3 columnas"
   ]
  },
  {
   "cell_type": "code",
   "execution_count": 20,
   "id": "454ee947",
   "metadata": {},
   "outputs": [
    {
     "data": {
      "text/plain": [
       "55.0"
      ]
     },
     "execution_count": 20,
     "metadata": {},
     "output_type": "execute_result"
    }
   ],
   "source": [
    "#para extraer elementos es como si fuera una dentro de otra\n",
    "np_2d [0][1]"
   ]
  },
  {
   "cell_type": "code",
   "execution_count": 21,
   "id": "06407220",
   "metadata": {},
   "outputs": [
    {
     "data": {
      "text/plain": [
       "55.0"
      ]
     },
     "execution_count": 21,
     "metadata": {},
     "output_type": "execute_result"
    }
   ],
   "source": [
    "# se puede hacer también de la siguiente forma \n",
    "np_2d [0,1]"
   ]
  },
  {
   "cell_type": "code",
   "execution_count": 22,
   "id": "3f1ec8b4",
   "metadata": {},
   "outputs": [
    {
     "data": {
      "text/plain": [
       "array([1.5 , 1.65, 1.71])"
      ]
     },
     "execution_count": 22,
     "metadata": {},
     "output_type": "execute_result"
    }
   ],
   "source": [
    "#para coger todos los elementos se hace igual que en listas\n",
    "np_2d [1,:]"
   ]
  },
  {
   "cell_type": "code",
   "execution_count": 23,
   "id": "5762ab4f",
   "metadata": {},
   "outputs": [
    {
     "data": {
      "text/plain": [
       "array([1.5 , 1.65, 1.71])"
      ]
     },
     "execution_count": 23,
     "metadata": {},
     "output_type": "execute_result"
    }
   ],
   "source": [
    "#mas rapido\n",
    "np_2d[1]"
   ]
  },
  {
   "cell_type": "code",
   "execution_count": 24,
   "id": "fedff173",
   "metadata": {},
   "outputs": [
    {
     "data": {
      "text/plain": [
       "array([[45.  , 55.  ],\n",
       "       [ 1.5 ,  1.65]])"
      ]
     },
     "execution_count": 24,
     "metadata": {},
     "output_type": "execute_result"
    }
   ],
   "source": [
    "#para varias filas\n",
    "np_2d [0:2,0:2]"
   ]
  },
  {
   "cell_type": "markdown",
   "id": "f2e59ea1",
   "metadata": {},
   "source": [
    "# Estadística con numpy"
   ]
  },
  {
   "cell_type": "code",
   "execution_count": 25,
   "id": "f3adf5bf",
   "metadata": {},
   "outputs": [],
   "source": [
    "#podemos crear nuestros propios datos \n",
    "# np.random.normal  = datos.aleatorios.distribucion normal\n",
    "# np.random.normal(valor, desviacion estandar, cantidad de datos)\n",
    "# altura_1000= np.random.normal(1.70,0.2,1000)\n",
    "# salen muchos decimales, redondeamos con NP.round(np...., 2 digitos)\n",
    "altura_1000= np.round(np.random.normal(1.70,0.2,1000),2)"
   ]
  },
  {
   "cell_type": "code",
   "execution_count": 26,
   "id": "d44e2957",
   "metadata": {},
   "outputs": [
    {
     "data": {
      "text/plain": [
       "array([2.01, 1.47, 1.42, 2.16, 1.76, 1.26, 1.75, 1.33, 1.62, 1.81, 1.79,\n",
       "       1.55, 1.59, 1.92, 1.36, 1.71, 1.79, 1.63, 1.69, 1.97, 1.66, 1.57,\n",
       "       1.84, 1.82, 1.67, 1.52, 1.68, 1.54, 1.98, 1.5 , 1.51, 1.63, 1.69,\n",
       "       1.8 , 1.83, 1.63, 1.81, 1.95, 1.48, 1.5 , 1.77, 1.84, 1.92, 1.65,\n",
       "       1.71, 1.77, 1.24, 1.4 , 1.96, 2.02, 1.48, 1.92, 1.68, 1.5 , 1.52,\n",
       "       2.01, 1.35, 1.56, 1.69, 1.86, 1.95, 1.77, 1.89, 1.77, 1.98, 1.5 ,\n",
       "       1.48, 1.74, 1.78, 1.69, 1.79, 1.73, 1.65, 1.56, 2.01, 1.56, 1.43,\n",
       "       1.73, 1.79, 1.67, 1.65, 1.66, 1.47, 1.84, 1.82, 1.93, 1.73, 1.59,\n",
       "       1.54, 1.89, 2.12, 1.88, 2.04, 1.78, 1.51, 1.51, 1.78, 1.66, 1.64,\n",
       "       1.49, 1.58, 1.73, 1.79, 2.13, 1.88, 2.09, 1.94, 1.01, 1.54, 1.72,\n",
       "       1.92, 1.97, 1.88, 1.57, 1.88, 1.86, 1.55, 1.68, 1.67, 1.64, 1.64,\n",
       "       1.85, 1.31, 1.83, 2.12, 1.74, 1.51, 1.57, 1.95, 1.13, 1.91, 1.91,\n",
       "       1.6 , 1.59, 1.93, 1.86, 1.84, 1.61, 1.88, 1.26, 1.5 , 1.45, 1.6 ,\n",
       "       2.05, 1.74, 2.  , 1.86, 1.63, 1.86, 1.64, 1.71, 1.57, 1.6 , 1.6 ,\n",
       "       1.8 , 1.31, 1.8 , 2.17, 1.61, 1.58, 1.48, 1.83, 1.98, 2.  , 1.54,\n",
       "       1.41, 1.7 , 1.59, 1.79, 1.78, 1.93, 1.66, 1.66, 1.83, 1.79, 1.99,\n",
       "       2.03, 2.  , 1.84, 1.52, 1.6 , 1.86, 1.33, 1.46, 1.53, 1.63, 1.5 ,\n",
       "       1.5 , 1.75, 1.65, 1.43, 1.92, 2.01, 1.9 , 1.8 , 1.96, 1.57, 1.7 ,\n",
       "       1.8 , 1.57, 1.64, 1.77, 1.86, 1.67, 1.33, 1.97, 2.3 , 1.72, 1.78,\n",
       "       1.69, 1.73, 1.43, 1.72, 1.63, 1.84, 1.54, 1.69, 1.52, 1.74, 1.5 ,\n",
       "       1.7 , 2.  , 1.95, 1.82, 1.88, 1.52, 1.77, 1.61, 1.68, 2.  , 1.8 ,\n",
       "       1.82, 1.87, 1.65, 1.64, 1.37, 1.49, 1.76, 1.71, 1.57, 1.52, 1.85,\n",
       "       1.92, 1.4 , 1.78, 1.89, 1.31, 1.71, 1.62, 1.52, 1.88, 1.44, 1.85,\n",
       "       1.65, 1.83, 1.79, 1.7 , 1.91, 1.89, 1.62, 1.65, 1.68, 1.87, 1.65,\n",
       "       1.66, 1.58, 1.34, 1.76, 1.91, 1.84, 1.79, 1.37, 1.69, 1.9 , 1.64,\n",
       "       1.87, 1.97, 1.58, 1.46, 1.58, 2.03, 1.88, 1.83, 1.48, 1.57, 1.57,\n",
       "       1.59, 1.82, 1.82, 1.99, 1.59, 1.83, 1.6 , 1.95, 1.61, 1.74, 1.57,\n",
       "       1.5 , 1.59, 1.79, 1.94, 2.17, 1.63, 2.06, 1.4 , 2.11, 1.61, 1.72,\n",
       "       1.55, 1.3 , 1.64, 2.11, 1.83, 1.55, 1.74, 1.22, 1.74, 1.89, 1.43,\n",
       "       1.66, 1.53, 1.62, 1.83, 1.4 , 1.73, 2.11, 1.74, 1.5 , 1.84, 2.06,\n",
       "       1.48, 2.07, 1.95, 2.05, 1.27, 1.84, 1.72, 1.59, 1.44, 1.95, 1.63,\n",
       "       1.96, 1.48, 1.83, 1.51, 1.81, 1.82, 2.02, 1.55, 1.93, 1.68, 1.56,\n",
       "       1.51, 1.65, 1.77, 1.91, 1.62, 1.99, 2.05, 1.78, 2.02, 1.73, 1.94,\n",
       "       1.49, 1.45, 1.81, 1.42, 1.44, 1.8 , 2.06, 1.85, 1.55, 1.51, 1.62,\n",
       "       1.87, 2.21, 1.57, 1.62, 1.55, 1.84, 1.74, 1.68, 1.73, 1.56, 1.58,\n",
       "       1.84, 1.87, 1.92, 1.78, 1.57, 1.93, 1.7 , 1.7 , 1.55, 1.57, 1.65,\n",
       "       1.8 , 1.66, 1.97, 2.  , 1.85, 1.86, 1.61, 2.2 , 1.65, 1.92, 1.45,\n",
       "       1.83, 2.08, 1.86, 1.52, 1.9 , 1.41, 1.49, 1.66, 1.76, 1.68, 1.53,\n",
       "       1.83, 1.99, 1.57, 1.51, 1.9 , 1.7 , 1.75, 1.84, 1.63, 1.7 , 1.98,\n",
       "       1.73, 1.53, 1.52, 1.42, 1.87, 2.11, 2.02, 1.72, 1.34, 1.34, 1.64,\n",
       "       1.74, 1.29, 1.64, 1.21, 1.78, 1.79, 1.4 , 1.85, 2.1 , 1.69, 1.56,\n",
       "       1.76, 1.61, 1.89, 1.62, 1.64, 1.82, 1.79, 1.99, 1.63, 1.79, 1.71,\n",
       "       2.06, 1.63, 1.89, 1.51, 1.63, 1.87, 1.74, 1.43, 2.12, 1.97, 1.71,\n",
       "       1.71, 1.5 , 1.52, 1.71, 1.62, 1.8 , 2.03, 1.62, 1.79, 1.5 , 1.62,\n",
       "       1.71, 1.77, 1.49, 1.86, 1.78, 1.79, 1.81, 1.73, 1.79, 1.58, 1.62,\n",
       "       1.67, 1.49, 1.29, 1.77, 1.86, 1.8 , 1.72, 1.85, 1.69, 1.19, 2.03,\n",
       "       1.66, 1.86, 2.05, 1.84, 1.74, 1.72, 1.95, 1.79, 1.71, 1.8 , 1.63,\n",
       "       1.65, 1.72, 1.75, 1.74, 1.65, 1.97, 1.61, 1.83, 1.97, 1.75, 1.68,\n",
       "       1.3 , 2.12, 2.08, 1.73, 2.03, 2.09, 1.64, 1.63, 2.49, 1.63, 1.78,\n",
       "       1.64, 1.96, 1.87, 1.59, 2.03, 1.73, 1.6 , 1.84, 1.6 , 2.09, 1.55,\n",
       "       1.56, 1.6 , 1.84, 1.66, 1.61, 1.65, 1.67, 1.59, 1.66, 1.53, 1.68,\n",
       "       1.63, 1.89, 2.02, 1.82, 2.  , 1.74, 1.49, 1.81, 2.01, 1.36, 1.65,\n",
       "       1.91, 1.5 , 1.7 , 1.75, 1.32, 1.83, 1.83, 1.77, 1.84, 1.81, 1.75,\n",
       "       1.58, 1.69, 1.43, 1.5 , 1.97, 2.15, 1.84, 1.43, 2.01, 1.42, 1.95,\n",
       "       1.47, 1.46, 1.99, 1.67, 1.77, 1.74, 1.79, 1.58, 1.61, 2.04, 1.2 ,\n",
       "       1.83, 1.76, 1.58, 1.86, 1.63, 1.41, 1.59, 1.93, 1.44, 1.73, 1.44,\n",
       "       1.77, 1.25, 1.44, 1.49, 1.87, 1.91, 1.66, 1.68, 1.49, 1.6 , 2.  ,\n",
       "       1.87, 1.82, 1.74, 1.94, 1.6 , 1.79, 1.68, 1.53, 1.85, 1.33, 1.79,\n",
       "       1.74, 1.76, 1.56, 1.6 , 1.61, 1.59, 1.94, 1.71, 1.9 , 1.66, 1.63,\n",
       "       1.51, 1.83, 1.61, 1.49, 1.52, 1.48, 1.46, 1.73, 1.7 , 1.59, 1.82,\n",
       "       1.78, 1.63, 1.87, 1.82, 1.81, 1.75, 1.82, 1.79, 1.68, 1.62, 1.81,\n",
       "       1.26, 1.28, 1.44, 1.95, 1.96, 1.69, 1.63, 1.63, 1.79, 2.01, 1.6 ,\n",
       "       1.78, 1.61, 1.51, 1.86, 1.94, 1.76, 1.54, 1.53, 1.7 , 1.6 , 2.03,\n",
       "       1.59, 1.85, 1.77, 1.95, 1.58, 1.93, 1.52, 1.9 , 1.4 , 1.85, 1.63,\n",
       "       1.98, 1.65, 1.65, 1.91, 1.74, 1.63, 1.86, 1.71, 1.65, 1.94, 1.63,\n",
       "       1.54, 1.89, 1.73, 1.87, 1.61, 1.63, 1.48, 1.6 , 1.85, 1.58, 1.73,\n",
       "       1.49, 1.67, 1.55, 1.58, 1.17, 1.5 , 1.46, 1.62, 1.54, 1.78, 1.01,\n",
       "       1.54, 1.73, 1.79, 1.49, 1.52, 1.9 , 1.73, 1.74, 1.55, 1.7 , 1.52,\n",
       "       1.45, 1.54, 1.91, 1.63, 1.56, 1.64, 1.7 , 1.76, 1.42, 1.52, 1.76,\n",
       "       2.01, 1.47, 1.83, 1.6 , 1.57, 1.82, 1.58, 1.95, 2.05, 1.82, 1.46,\n",
       "       1.69, 1.53, 1.57, 1.33, 1.66, 1.82, 1.45, 1.79, 1.76, 1.41, 1.36,\n",
       "       1.75, 1.53, 1.48, 1.69, 1.77, 1.68, 1.84, 1.35, 1.78, 1.8 , 1.9 ,\n",
       "       1.85, 1.72, 1.59, 1.65, 1.82, 1.81, 1.71, 1.63, 2.02, 1.45, 1.8 ,\n",
       "       1.88, 1.68, 1.77, 1.53, 1.52, 1.46, 1.66, 1.7 , 1.66, 1.69, 1.94,\n",
       "       1.83, 1.65, 1.68, 2.05, 1.55, 1.91, 1.21, 1.67, 1.46, 1.8 , 1.46,\n",
       "       1.85, 1.81, 1.79, 1.73, 2.05, 1.67, 1.59, 1.64, 1.9 , 1.54, 1.68,\n",
       "       1.29, 1.63, 1.94, 1.77, 1.75, 1.55, 1.5 , 1.7 , 1.89, 1.93, 1.81,\n",
       "       1.35, 1.72, 1.61, 1.67, 1.8 , 1.76, 1.85, 1.4 , 2.07, 2.12, 1.74,\n",
       "       1.55, 1.79, 1.19, 1.63, 1.3 , 1.79, 1.91, 1.81, 1.46, 2.01, 1.46,\n",
       "       1.87, 1.8 , 1.61, 1.45, 1.73, 1.65, 1.81, 1.78, 1.24, 1.82, 1.75,\n",
       "       1.68, 1.52, 1.77, 1.65, 1.65, 1.74, 1.57, 1.75, 1.94, 2.03, 1.66,\n",
       "       1.81, 1.58, 1.84, 1.97, 1.4 , 1.69, 1.47, 1.65, 1.75, 1.52, 1.63,\n",
       "       1.66, 1.31, 2.09, 1.26, 1.6 , 1.67, 1.8 , 1.86, 1.74, 1.63, 1.59,\n",
       "       1.41, 1.65, 1.71, 1.68, 1.48, 1.54, 2.09, 1.76, 1.73, 1.86, 2.  ,\n",
       "       1.68, 1.55, 1.88, 1.76, 1.75, 1.38, 1.51, 1.81, 1.89, 1.45, 1.69,\n",
       "       1.47, 1.64, 1.88, 1.91, 1.42, 1.69, 2.06, 1.74, 1.55, 1.9 , 1.78,\n",
       "       1.31, 1.75, 1.94, 1.76, 1.6 , 1.3 , 1.67, 2.19, 1.67, 1.42, 1.36,\n",
       "       1.83, 2.1 , 1.66, 1.84, 1.62, 1.5 , 1.46, 1.65, 1.73, 1.5 , 1.9 ,\n",
       "       1.6 , 1.45, 1.72, 1.88, 1.51, 1.81, 1.95, 1.25, 1.55, 1.53, 1.61,\n",
       "       1.6 , 1.62, 1.63, 1.69, 1.51, 1.4 , 2.08, 1.71, 1.69, 1.06, 1.84,\n",
       "       1.84, 1.62, 1.72, 1.25, 1.64, 2.08, 1.99, 1.77, 1.68, 1.65])"
      ]
     },
     "execution_count": 26,
     "metadata": {},
     "output_type": "execute_result"
    }
   ],
   "source": [
    "altura_1000"
   ]
  },
  {
   "cell_type": "code",
   "execution_count": 27,
   "id": "f1af2906",
   "metadata": {},
   "outputs": [],
   "source": [
    "?np.random.normal\n",
    "#tambien podemos hacer que la cantidad sea una matriz (n,n) con size= (n,n)\n",
    "#medimos con shape"
   ]
  },
  {
   "cell_type": "code",
   "execution_count": 28,
   "id": "f2371ee4",
   "metadata": {},
   "outputs": [
    {
     "data": {
      "text/plain": [
       "(1000,)"
      ]
     },
     "execution_count": 28,
     "metadata": {},
     "output_type": "execute_result"
    }
   ],
   "source": [
    "altura_1000.shape"
   ]
  },
  {
   "cell_type": "code",
   "execution_count": 29,
   "id": "8ed214e4",
   "metadata": {},
   "outputs": [],
   "source": [
    "peso_1000= np.round(np.random.normal(58,8,1000),2)"
   ]
  },
  {
   "cell_type": "code",
   "execution_count": 30,
   "id": "7e8215f3",
   "metadata": {},
   "outputs": [
    {
     "data": {
      "text/plain": [
       "(1000,)"
      ]
     },
     "execution_count": 30,
     "metadata": {},
     "output_type": "execute_result"
    }
   ],
   "source": [
    "peso_1000.shape"
   ]
  },
  {
   "cell_type": "code",
   "execution_count": 31,
   "id": "26698c94",
   "metadata": {},
   "outputs": [],
   "source": [
    "#agrupamos las matrices en relacion 1:1 con \"column_stack\"\n",
    "datos_1000= np.column_stack((altura_1000,peso_1000))"
   ]
  },
  {
   "cell_type": "code",
   "execution_count": 32,
   "id": "b72949a5",
   "metadata": {},
   "outputs": [
    {
     "data": {
      "text/plain": [
       "(1000, 2)"
      ]
     },
     "execution_count": 32,
     "metadata": {},
     "output_type": "execute_result"
    }
   ],
   "source": [
    "datos_1000.shape"
   ]
  },
  {
   "cell_type": "code",
   "execution_count": 33,
   "id": "3fd2bc77",
   "metadata": {},
   "outputs": [
    {
     "data": {
      "text/plain": [
       "array([[ 2.01, 49.99],\n",
       "       [ 1.47, 78.06],\n",
       "       [ 1.42, 63.28],\n",
       "       ...,\n",
       "       [ 1.77, 49.48],\n",
       "       [ 1.68, 60.67],\n",
       "       [ 1.65, 64.32]])"
      ]
     },
     "execution_count": 33,
     "metadata": {},
     "output_type": "execute_result"
    }
   ],
   "source": [
    "datos_1000\n",
    "#para cada altura nos da 1 peso, dan 1000 datos, 2 infos de cada (1000,2)"
   ]
  },
  {
   "cell_type": "code",
   "execution_count": 34,
   "id": "ef86c524",
   "metadata": {},
   "outputs": [
    {
     "data": {
      "text/plain": [
       "1.70389"
      ]
     },
     "execution_count": 34,
     "metadata": {},
     "output_type": "execute_result"
    }
   ],
   "source": [
    "#empezamos a usar estadistica\n",
    "#media\n",
    "np.mean(datos_1000[:,0])"
   ]
  },
  {
   "cell_type": "code",
   "execution_count": 35,
   "id": "1a3de22f",
   "metadata": {},
   "outputs": [],
   "source": [
    "#acabamos de extraer todos los elementos \":\" de altura \"[0]\""
   ]
  },
  {
   "cell_type": "code",
   "execution_count": 36,
   "id": "8fb6ed08",
   "metadata": {},
   "outputs": [
    {
     "data": {
      "text/plain": [
       "1.7"
      ]
     },
     "execution_count": 36,
     "metadata": {},
     "output_type": "execute_result"
    }
   ],
   "source": [
    "#mediana\n",
    "np.median(datos_1000[:,0])"
   ]
  },
  {
   "cell_type": "code",
   "execution_count": 37,
   "id": "a4dc3cdd",
   "metadata": {},
   "outputs": [
    {
     "data": {
      "text/plain": [
       "1.0"
      ]
     },
     "execution_count": 37,
     "metadata": {},
     "output_type": "execute_result"
    }
   ],
   "source": [
    "#coeficiente de correlación\n",
    "np.corrcoef(datos_1000[:,0])"
   ]
  },
  {
   "cell_type": "code",
   "execution_count": 38,
   "id": "a8b59552",
   "metadata": {},
   "outputs": [
    {
     "data": {
      "text/plain": [
       "array([[1.        , 0.03717181],\n",
       "       [0.03717181, 1.        ]])"
      ]
     },
     "execution_count": 38,
     "metadata": {},
     "output_type": "execute_result"
    }
   ],
   "source": [
    "#aqui vemos que casi no hay correlacion (lejos de 1 o -1)\n",
    "np.corrcoef(datos_1000[:,0], datos_1000[:,1])"
   ]
  },
  {
   "cell_type": "code",
   "execution_count": 39,
   "id": "20fdd550",
   "metadata": {},
   "outputs": [
    {
     "data": {
      "text/plain": [
       "0.20018683248405725"
      ]
     },
     "execution_count": 39,
     "metadata": {},
     "output_type": "execute_result"
    }
   ],
   "source": [
    " #desviacion estandar\n",
    "np.std(datos_1000[:,0])"
   ]
  },
  {
   "cell_type": "code",
   "execution_count": null,
   "id": "a42e781d",
   "metadata": {},
   "outputs": [],
   "source": []
  }
 ],
 "metadata": {
  "kernelspec": {
   "display_name": "Python 3 (ipykernel)",
   "language": "python",
   "name": "python3"
  },
  "language_info": {
   "codemirror_mode": {
    "name": "ipython",
    "version": 3
   },
   "file_extension": ".py",
   "mimetype": "text/x-python",
   "name": "python",
   "nbconvert_exporter": "python",
   "pygments_lexer": "ipython3",
   "version": "3.10.0"
  }
 },
 "nbformat": 4,
 "nbformat_minor": 5
}
